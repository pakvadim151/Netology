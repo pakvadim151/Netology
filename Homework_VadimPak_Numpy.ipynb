{
  "nbformat": 4,
  "nbformat_minor": 0,
  "metadata": {
    "colab": {
      "provenance": [],
      "authorship_tag": "ABX9TyOzwR1rOkOtUVXUKrAmA60U",
      "include_colab_link": true
    },
    "kernelspec": {
      "name": "python3",
      "display_name": "Python 3"
    },
    "language_info": {
      "name": "python"
    }
  },
  "cells": [
    {
      "cell_type": "markdown",
      "metadata": {
        "id": "view-in-github",
        "colab_type": "text"
      },
      "source": [
        "<a href=\"https://colab.research.google.com/github/pakvadim151/Netology/blob/main/Homework_VadimPak_Numpy.ipynb\" target=\"_parent\"><img src=\"https://colab.research.google.com/assets/colab-badge.svg\" alt=\"Open In Colab\"/></a>"
      ]
    },
    {
      "cell_type": "markdown",
      "source": [
        "# Домашнее задание «Библиотека numpy. Вычислительные задачи»\n"
      ],
      "metadata": {
        "id": "GoPN01aNQ_ZP"
      }
    },
    {
      "cell_type": "markdown",
      "source": [
        "Задание 1\n",
        "Создайте numpy array с элементами от числа N до 0 (например, для N = 10 это будетarray([9, 8, 7, 6, 5, 4, 3, 2, 1, 0]))."
      ],
      "metadata": {
        "id": "QBz1Yy0YRFhd"
      }
    },
    {
      "cell_type": "code",
      "execution_count": null,
      "metadata": {
        "id": "VLlHYeJuQzsV"
      },
      "outputs": [],
      "source": [
        "import numpy as np"
      ]
    },
    {
      "cell_type": "code",
      "source": [
        "N = 10\n",
        "np.array(list(range(N-1, -1, -1)))"
      ],
      "metadata": {
        "colab": {
          "base_uri": "https://localhost:8080/"
        },
        "id": "7mQXoxS2TWNc",
        "outputId": "45eef7d5-eb4d-4025-c560-66a0c9d95f86"
      },
      "execution_count": null,
      "outputs": [
        {
          "output_type": "execute_result",
          "data": {
            "text/plain": [
              "array([9, 8, 7, 6, 5, 4, 3, 2, 1, 0])"
            ]
          },
          "metadata": {},
          "execution_count": 2
        }
      ]
    },
    {
      "cell_type": "code",
      "source": [
        "np.arange(N-1, -1, -1)"
      ],
      "metadata": {
        "colab": {
          "base_uri": "https://localhost:8080/"
        },
        "id": "Se9zrhQOT_JF",
        "outputId": "b8f3b3a6-31f0-439b-ab84-b25e246ad924"
      },
      "execution_count": null,
      "outputs": [
        {
          "output_type": "execute_result",
          "data": {
            "text/plain": [
              "array([9, 8, 7, 6, 5, 4, 3, 2, 1, 0])"
            ]
          },
          "metadata": {},
          "execution_count": 3
        }
      ]
    },
    {
      "cell_type": "markdown",
      "source": [
        "Задание 2\n",
        "Создайте диагональную матрицу с элементами от N до 0. Посчитайте сумму ее значений на диагонали."
      ],
      "metadata": {
        "id": "16O1A6q3UwG5"
      }
    },
    {
      "cell_type": "code",
      "source": [
        "A = np.diag(np.arange(N-1, -1, -1), k=0)\n",
        "A"
      ],
      "metadata": {
        "colab": {
          "base_uri": "https://localhost:8080/"
        },
        "id": "LDB8xD-VUw_y",
        "outputId": "8d2ebaec-0423-4569-c069-1131c944f1b6"
      },
      "execution_count": null,
      "outputs": [
        {
          "output_type": "execute_result",
          "data": {
            "text/plain": [
              "array([[9, 0, 0, 0, 0, 0, 0, 0, 0, 0],\n",
              "       [0, 8, 0, 0, 0, 0, 0, 0, 0, 0],\n",
              "       [0, 0, 7, 0, 0, 0, 0, 0, 0, 0],\n",
              "       [0, 0, 0, 6, 0, 0, 0, 0, 0, 0],\n",
              "       [0, 0, 0, 0, 5, 0, 0, 0, 0, 0],\n",
              "       [0, 0, 0, 0, 0, 4, 0, 0, 0, 0],\n",
              "       [0, 0, 0, 0, 0, 0, 3, 0, 0, 0],\n",
              "       [0, 0, 0, 0, 0, 0, 0, 2, 0, 0],\n",
              "       [0, 0, 0, 0, 0, 0, 0, 0, 1, 0],\n",
              "       [0, 0, 0, 0, 0, 0, 0, 0, 0, 0]])"
            ]
          },
          "metadata": {},
          "execution_count": 5
        }
      ]
    },
    {
      "cell_type": "code",
      "source": [
        "A.trace()"
      ],
      "metadata": {
        "colab": {
          "base_uri": "https://localhost:8080/"
        },
        "id": "wvIuUAV0o01g",
        "outputId": "8ae8c59e-97a1-4749-888a-deaa931f5adb"
      },
      "execution_count": null,
      "outputs": [
        {
          "output_type": "execute_result",
          "data": {
            "text/plain": [
              "45"
            ]
          },
          "metadata": {},
          "execution_count": 6
        }
      ]
    },
    {
      "cell_type": "code",
      "source": [
        "A.sum()"
      ],
      "metadata": {
        "colab": {
          "base_uri": "https://localhost:8080/"
        },
        "id": "-TCplmAoo-jR",
        "outputId": "290f236d-70b3-40fa-9541-39ef06b9f473"
      },
      "execution_count": null,
      "outputs": [
        {
          "output_type": "execute_result",
          "data": {
            "text/plain": [
              "45"
            ]
          },
          "metadata": {},
          "execution_count": 7
        }
      ]
    },
    {
      "cell_type": "markdown",
      "source": [
        "#Задание 3"
      ],
      "metadata": {
        "id": "QtvJvIcSpnPU"
      }
    },
    {
      "cell_type": "markdown",
      "source": [
        "Решите систему уравнений:\n",
        "\n",
        "4x + 2y + z = 4\n",
        "\n",
        "x + 3y = 12\n",
        "\n",
        "5y + 4z = -3"
      ],
      "metadata": {
        "id": "zVIr9K6IpplL"
      }
    },
    {
      "cell_type": "code",
      "source": [
        "A = np.array([\n",
        "    [4, 2, 1],\n",
        "    [1, 3, 0],\n",
        "    [0, 5, 4]\n",
        "])"
      ],
      "metadata": {
        "id": "5_CVYXkUpyBF"
      },
      "execution_count": null,
      "outputs": []
    },
    {
      "cell_type": "code",
      "source": [
        "b = np.array([4, 12, -3])"
      ],
      "metadata": {
        "id": "_O5Z7emaqH5N"
      },
      "execution_count": null,
      "outputs": []
    },
    {
      "cell_type": "code",
      "source": [
        "np.linalg.solve(A, b)"
      ],
      "metadata": {
        "colab": {
          "base_uri": "https://localhost:8080/"
        },
        "id": "0-vdaQwzqWSe",
        "outputId": "523784a5-b64b-4ade-bd59-93ff7d59b496"
      },
      "execution_count": null,
      "outputs": [
        {
          "output_type": "execute_result",
          "data": {
            "text/plain": [
              "array([ 0.46666667,  3.84444444, -5.55555556])"
            ]
          },
          "metadata": {},
          "execution_count": 10
        }
      ]
    },
    {
      "cell_type": "code",
      "source": [
        "np.linalg.inv(A) @ b"
      ],
      "metadata": {
        "colab": {
          "base_uri": "https://localhost:8080/"
        },
        "id": "i87dr2npq1Ao",
        "outputId": "3229cf64-950f-4642-bcb2-b8aae64825d7"
      },
      "execution_count": null,
      "outputs": [
        {
          "output_type": "execute_result",
          "data": {
            "text/plain": [
              "array([ 0.46666667,  3.84444444, -5.55555556])"
            ]
          },
          "metadata": {},
          "execution_count": 11
        }
      ]
    },
    {
      "cell_type": "markdown",
      "source": [
        "#Задание 4"
      ],
      "metadata": {
        "id": "FCUL2hAvrHYT"
      }
    },
    {
      "cell_type": "markdown",
      "source": [
        "Имеется матрица покупок в интернет-магазине. Столбец А - ID пользователя. Остальные столбцы - количество покупок категорий товаров этим пользователем:"
      ],
      "metadata": {
        "id": "f4-QlMuIrIiv"
      }
    },
    {
      "cell_type": "markdown",
      "source": [
        "Матрица в виде numpy array"
      ],
      "metadata": {
        "id": "saEogQrNrvEj"
      }
    },
    {
      "cell_type": "code",
      "source": [
        "users_stats = np.array(\n",
        "    [\n",
        "        [2, 1, 0, 0, 0, 0],\n",
        "        [1, 1, 2, 1, 0, 0],\n",
        "        [2, 0, 1, 0, 0, 0],\n",
        "        [1, 1, 2, 1, 0, 1],\n",
        "        [0, 0, 1, 2, 0, 0],\n",
        "        [0, 0, 0, 0, 0, 5],\n",
        "        [1, 0, 0, 0, 0, 0],\n",
        "        [0, 1, 1, 0, 0, 0],\n",
        "        [0, 0, 0, 1, 1, 3],\n",
        "        [1, 0, 0, 2, 1, 4]\n",
        "    ], \n",
        "    np.int32\n",
        ")"
      ],
      "metadata": {
        "id": "nrWOMI_Gr1Vg"
      },
      "execution_count": null,
      "outputs": []
    },
    {
      "cell_type": "code",
      "source": [
        "next_user_stats = np.array([0, 1, 2, 0, 0, 0])"
      ],
      "metadata": {
        "id": "JEq8e1xVr-Qd"
      },
      "execution_count": null,
      "outputs": []
    },
    {
      "cell_type": "markdown",
      "source": [
        "Найдите самого похожего пользователя. Т. е. посчитайте косинусное сходство между этим пользователем и всеми пользователями из массива user_stats"
      ],
      "metadata": {
        "id": "uPSJs0iztJPN"
      }
    },
    {
      "cell_type": "code",
      "source": [
        "users_stats.shape"
      ],
      "metadata": {
        "colab": {
          "base_uri": "https://localhost:8080/"
        },
        "id": "uhV5wR-itLyq",
        "outputId": "9bdde191-d26c-4b59-864a-d840ee27cf18"
      },
      "execution_count": null,
      "outputs": [
        {
          "output_type": "execute_result",
          "data": {
            "text/plain": [
              "(10, 6)"
            ]
          },
          "metadata": {},
          "execution_count": 16
        }
      ]
    },
    {
      "cell_type": "code",
      "source": [
        "s = users_stats @ next_user_stats\n",
        "s"
      ],
      "metadata": {
        "colab": {
          "base_uri": "https://localhost:8080/"
        },
        "id": "wueHew5Zx3cj",
        "outputId": "8acb83bf-c62f-462f-c8b6-e862ba85e06e"
      },
      "execution_count": null,
      "outputs": [
        {
          "output_type": "execute_result",
          "data": {
            "text/plain": [
              "array([1, 5, 2, 5, 2, 0, 0, 3, 0, 0])"
            ]
          },
          "metadata": {},
          "execution_count": 21
        }
      ]
    },
    {
      "cell_type": "code",
      "source": [
        "next_user_length = np.linalg.norm(next_user_stats)\n",
        "next_user_length"
      ],
      "metadata": {
        "colab": {
          "base_uri": "https://localhost:8080/"
        },
        "id": "J1YMatJHxmWz",
        "outputId": "d7ae56b0-a338-4cbd-ae85-d088f286ae83"
      },
      "execution_count": null,
      "outputs": [
        {
          "output_type": "execute_result",
          "data": {
            "text/plain": [
              "2.23606797749979"
            ]
          },
          "metadata": {},
          "execution_count": 24
        }
      ]
    },
    {
      "cell_type": "code",
      "source": [
        "users_length = np.linalg.norm(users_stats)\n",
        "users_length"
      ],
      "metadata": {
        "colab": {
          "base_uri": "https://localhost:8080/"
        },
        "id": "JoiBNTvEyIam",
        "outputId": "ea5ba03f-995b-4c72-eedc-839f73b18228"
      },
      "execution_count": null,
      "outputs": [
        {
          "output_type": "execute_result",
          "data": {
            "text/plain": [
              "9.539392014169456"
            ]
          },
          "metadata": {},
          "execution_count": 25
        }
      ]
    },
    {
      "cell_type": "code",
      "source": [
        "users_length_rows = np.linalg.norm(users_stats, axis = 1)\n",
        "users_length_rows"
      ],
      "metadata": {
        "colab": {
          "base_uri": "https://localhost:8080/"
        },
        "id": "uGgZaTHzyhld",
        "outputId": "86486002-2ce4-4030-faf6-aafc9fc32a27"
      },
      "execution_count": null,
      "outputs": [
        {
          "output_type": "execute_result",
          "data": {
            "text/plain": [
              "array([2.23606798, 2.64575131, 2.23606798, 2.82842712, 2.23606798,\n",
              "       5.        , 1.        , 1.41421356, 3.31662479, 4.69041576])"
            ]
          },
          "metadata": {},
          "execution_count": 26
        }
      ]
    },
    {
      "cell_type": "code",
      "source": [
        "cosines = (s/(next_user_length*users_length_rows)).reshape(-1,1)\n",
        "cosines"
      ],
      "metadata": {
        "colab": {
          "base_uri": "https://localhost:8080/"
        },
        "id": "vJDCrtKMzJs2",
        "outputId": "94a10ff8-8ff9-48d9-dedc-220297f53e1e"
      },
      "execution_count": null,
      "outputs": [
        {
          "output_type": "execute_result",
          "data": {
            "text/plain": [
              "array([[0.2       ],\n",
              "       [0.84515425],\n",
              "       [0.4       ],\n",
              "       [0.79056942],\n",
              "       [0.4       ],\n",
              "       [0.        ],\n",
              "       [0.        ],\n",
              "       [0.9486833 ],\n",
              "       [0.        ],\n",
              "       [0.        ]])"
            ]
          },
          "metadata": {},
          "execution_count": 29
        }
      ]
    },
    {
      "cell_type": "code",
      "source": [
        "cosines.argmax()"
      ],
      "metadata": {
        "colab": {
          "base_uri": "https://localhost:8080/"
        },
        "id": "ysmrEdLEz5PF",
        "outputId": "405757c4-b683-4548-e58c-a43cfeedafe3"
      },
      "execution_count": null,
      "outputs": [
        {
          "output_type": "execute_result",
          "data": {
            "text/plain": [
              "7"
            ]
          },
          "metadata": {},
          "execution_count": 31
        }
      ]
    },
    {
      "cell_type": "code",
      "source": [
        "users_stats[7]"
      ],
      "metadata": {
        "colab": {
          "base_uri": "https://localhost:8080/"
        },
        "id": "slRg28TT0Wgm",
        "outputId": "2f10b7c6-18af-44b9-f445-c6b181e9219c"
      },
      "execution_count": null,
      "outputs": [
        {
          "output_type": "execute_result",
          "data": {
            "text/plain": [
              "array([0, 1, 1, 0, 0, 0], dtype=int32)"
            ]
          },
          "metadata": {},
          "execution_count": 32
        }
      ]
    },
    {
      "cell_type": "markdown",
      "source": [
        "Ответ:\n",
        "\n",
        "Новый покупатель имеет наибольшее косинусное сходство с покупателем [7]"
      ],
      "metadata": {
        "id": "FDJuRdVP0cyC"
      }
    }
  ]
}