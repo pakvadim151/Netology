{
  "cells": [
    {
      "cell_type": "markdown",
      "metadata": {
        "id": "view-in-github",
        "colab_type": "text"
      },
      "source": [
        "<a href=\"https://colab.research.google.com/github/pakvadim151/Netology/blob/main/Homework_stat_basics_VadimPak_ipynb%22.ipynb\" target=\"_parent\"><img src=\"https://colab.research.google.com/assets/colab-badge.svg\" alt=\"Open In Colab\"/></a>"
      ]
    },
    {
      "cell_type": "markdown",
      "metadata": {
        "id": "erFHLnNpVT5u"
      },
      "source": [
        "# Домашнее задание к лекции \"Базовые понятия статистики\""
      ]
    },
    {
      "cell_type": "markdown",
      "metadata": {
        "id": "uiuaKBPWVT51"
      },
      "source": [
        "## Обязательная часть\n",
        "\n",
        "Будем осуществлять работу с непростым [набором данных](https://raw.githubusercontent.com/obulygin/pyda_homeworks/master/statistics_basics/horse_data.csv) о состоянии здоровья лошадей, испытывающих кишечные колики. \n",
        "\n",
        "### Задание 1. Базовое изучение\n",
        "\n",
        "Изучить представленный набор данных на основе [описания его столбцов](https://raw.githubusercontent.com/obulygin/pyda_homeworks/master/statistics_basics/horse_data.names) и выбрать 8 столбцов для дальнейшего изучения (среди них должны быть как числовые, так и категориальные). Провести расчет базовых метрик для них, кратко описать результаты.\n",
        "\n",
        "### Задание 2. Работа с выбросами\n",
        "\n",
        "В выбранных числовых столбцах найти выбросы, выдвинуть гипотезы об их причинах и проинтерпретировать результаты. Принять и обосновать решение о дальнейшей работе с ними.\n",
        "\n",
        "### Задание 3. Работа с пропусками\n",
        "\n",
        "Рассчитать количество выбросов для всех выбранных столбцов. Принять и обосновать решение о методе работы с пропусками по каждому столбцу, сформировать датафрейм, в котором пропуски будут отсутствовать."
      ]
    },
    {
      "cell_type": "code",
      "source": [
        "import pandas as pd\n",
        "import numpy as np\n",
        "import matplotlib.pyplot as plt\n",
        "import seaborn as sns"
      ],
      "metadata": {
        "id": "-_9C_3GpVuY6"
      },
      "execution_count": 1,
      "outputs": []
    },
    {
      "cell_type": "code",
      "source": [
        "df = pd.read_csv('https://raw.githubusercontent.com/obulygin/pyda_homeworks/master/statistics_basics/horse_data.csv', na_values='?', header = None)"
      ],
      "metadata": {
        "id": "MnjJbQ09V6k2"
      },
      "execution_count": 2,
      "outputs": []
    },
    {
      "cell_type": "code",
      "source": [
        "df.head()"
      ],
      "metadata": {
        "colab": {
          "base_uri": "https://localhost:8080/",
          "height": 235
        },
        "id": "tsnn-YfoWGA_",
        "outputId": "bd4cf289-c658-476c-f391-3cdb10005fe4"
      },
      "execution_count": 3,
      "outputs": [
        {
          "output_type": "execute_result",
          "data": {
            "text/plain": [
              "    0   1        2     3      4     5    6    7    8    9   ...    18    19  \\\n",
              "0  2.0   1   530101  38.5   66.0  28.0  3.0  3.0  NaN  2.0  ...  45.0   8.4   \n",
              "1  1.0   1   534817  39.2   88.0  20.0  NaN  NaN  4.0  1.0  ...  50.0  85.0   \n",
              "2  2.0   1   530334  38.3   40.0  24.0  1.0  1.0  3.0  1.0  ...  33.0   6.7   \n",
              "3  1.0   9  5290409  39.1  164.0  84.0  4.0  1.0  6.0  2.0  ...  48.0   7.2   \n",
              "4  2.0   1   530255  37.3  104.0  35.0  NaN  NaN  6.0  2.0  ...  74.0   7.4   \n",
              "\n",
              "    20   21   22  23     24  25  26  27  \n",
              "0  NaN  NaN  2.0   2  11300   0   0   2  \n",
              "1  2.0  2.0  3.0   2   2208   0   0   2  \n",
              "2  NaN  NaN  1.0   2      0   0   0   1  \n",
              "3  3.0  5.3  2.0   1   2208   0   0   1  \n",
              "4  NaN  NaN  2.0   2   4300   0   0   2  \n",
              "\n",
              "[5 rows x 28 columns]"
            ],
            "text/html": [
              "\n",
              "  <div id=\"df-d83c06f1-6ff0-4ba8-8793-3eb23a516c1e\">\n",
              "    <div class=\"colab-df-container\">\n",
              "      <div>\n",
              "<style scoped>\n",
              "    .dataframe tbody tr th:only-of-type {\n",
              "        vertical-align: middle;\n",
              "    }\n",
              "\n",
              "    .dataframe tbody tr th {\n",
              "        vertical-align: top;\n",
              "    }\n",
              "\n",
              "    .dataframe thead th {\n",
              "        text-align: right;\n",
              "    }\n",
              "</style>\n",
              "<table border=\"1\" class=\"dataframe\">\n",
              "  <thead>\n",
              "    <tr style=\"text-align: right;\">\n",
              "      <th></th>\n",
              "      <th>0</th>\n",
              "      <th>1</th>\n",
              "      <th>2</th>\n",
              "      <th>3</th>\n",
              "      <th>4</th>\n",
              "      <th>5</th>\n",
              "      <th>6</th>\n",
              "      <th>7</th>\n",
              "      <th>8</th>\n",
              "      <th>9</th>\n",
              "      <th>...</th>\n",
              "      <th>18</th>\n",
              "      <th>19</th>\n",
              "      <th>20</th>\n",
              "      <th>21</th>\n",
              "      <th>22</th>\n",
              "      <th>23</th>\n",
              "      <th>24</th>\n",
              "      <th>25</th>\n",
              "      <th>26</th>\n",
              "      <th>27</th>\n",
              "    </tr>\n",
              "  </thead>\n",
              "  <tbody>\n",
              "    <tr>\n",
              "      <th>0</th>\n",
              "      <td>2.0</td>\n",
              "      <td>1</td>\n",
              "      <td>530101</td>\n",
              "      <td>38.5</td>\n",
              "      <td>66.0</td>\n",
              "      <td>28.0</td>\n",
              "      <td>3.0</td>\n",
              "      <td>3.0</td>\n",
              "      <td>NaN</td>\n",
              "      <td>2.0</td>\n",
              "      <td>...</td>\n",
              "      <td>45.0</td>\n",
              "      <td>8.4</td>\n",
              "      <td>NaN</td>\n",
              "      <td>NaN</td>\n",
              "      <td>2.0</td>\n",
              "      <td>2</td>\n",
              "      <td>11300</td>\n",
              "      <td>0</td>\n",
              "      <td>0</td>\n",
              "      <td>2</td>\n",
              "    </tr>\n",
              "    <tr>\n",
              "      <th>1</th>\n",
              "      <td>1.0</td>\n",
              "      <td>1</td>\n",
              "      <td>534817</td>\n",
              "      <td>39.2</td>\n",
              "      <td>88.0</td>\n",
              "      <td>20.0</td>\n",
              "      <td>NaN</td>\n",
              "      <td>NaN</td>\n",
              "      <td>4.0</td>\n",
              "      <td>1.0</td>\n",
              "      <td>...</td>\n",
              "      <td>50.0</td>\n",
              "      <td>85.0</td>\n",
              "      <td>2.0</td>\n",
              "      <td>2.0</td>\n",
              "      <td>3.0</td>\n",
              "      <td>2</td>\n",
              "      <td>2208</td>\n",
              "      <td>0</td>\n",
              "      <td>0</td>\n",
              "      <td>2</td>\n",
              "    </tr>\n",
              "    <tr>\n",
              "      <th>2</th>\n",
              "      <td>2.0</td>\n",
              "      <td>1</td>\n",
              "      <td>530334</td>\n",
              "      <td>38.3</td>\n",
              "      <td>40.0</td>\n",
              "      <td>24.0</td>\n",
              "      <td>1.0</td>\n",
              "      <td>1.0</td>\n",
              "      <td>3.0</td>\n",
              "      <td>1.0</td>\n",
              "      <td>...</td>\n",
              "      <td>33.0</td>\n",
              "      <td>6.7</td>\n",
              "      <td>NaN</td>\n",
              "      <td>NaN</td>\n",
              "      <td>1.0</td>\n",
              "      <td>2</td>\n",
              "      <td>0</td>\n",
              "      <td>0</td>\n",
              "      <td>0</td>\n",
              "      <td>1</td>\n",
              "    </tr>\n",
              "    <tr>\n",
              "      <th>3</th>\n",
              "      <td>1.0</td>\n",
              "      <td>9</td>\n",
              "      <td>5290409</td>\n",
              "      <td>39.1</td>\n",
              "      <td>164.0</td>\n",
              "      <td>84.0</td>\n",
              "      <td>4.0</td>\n",
              "      <td>1.0</td>\n",
              "      <td>6.0</td>\n",
              "      <td>2.0</td>\n",
              "      <td>...</td>\n",
              "      <td>48.0</td>\n",
              "      <td>7.2</td>\n",
              "      <td>3.0</td>\n",
              "      <td>5.3</td>\n",
              "      <td>2.0</td>\n",
              "      <td>1</td>\n",
              "      <td>2208</td>\n",
              "      <td>0</td>\n",
              "      <td>0</td>\n",
              "      <td>1</td>\n",
              "    </tr>\n",
              "    <tr>\n",
              "      <th>4</th>\n",
              "      <td>2.0</td>\n",
              "      <td>1</td>\n",
              "      <td>530255</td>\n",
              "      <td>37.3</td>\n",
              "      <td>104.0</td>\n",
              "      <td>35.0</td>\n",
              "      <td>NaN</td>\n",
              "      <td>NaN</td>\n",
              "      <td>6.0</td>\n",
              "      <td>2.0</td>\n",
              "      <td>...</td>\n",
              "      <td>74.0</td>\n",
              "      <td>7.4</td>\n",
              "      <td>NaN</td>\n",
              "      <td>NaN</td>\n",
              "      <td>2.0</td>\n",
              "      <td>2</td>\n",
              "      <td>4300</td>\n",
              "      <td>0</td>\n",
              "      <td>0</td>\n",
              "      <td>2</td>\n",
              "    </tr>\n",
              "  </tbody>\n",
              "</table>\n",
              "<p>5 rows × 28 columns</p>\n",
              "</div>\n",
              "      <button class=\"colab-df-convert\" onclick=\"convertToInteractive('df-d83c06f1-6ff0-4ba8-8793-3eb23a516c1e')\"\n",
              "              title=\"Convert this dataframe to an interactive table.\"\n",
              "              style=\"display:none;\">\n",
              "        \n",
              "  <svg xmlns=\"http://www.w3.org/2000/svg\" height=\"24px\"viewBox=\"0 0 24 24\"\n",
              "       width=\"24px\">\n",
              "    <path d=\"M0 0h24v24H0V0z\" fill=\"none\"/>\n",
              "    <path d=\"M18.56 5.44l.94 2.06.94-2.06 2.06-.94-2.06-.94-.94-2.06-.94 2.06-2.06.94zm-11 1L8.5 8.5l.94-2.06 2.06-.94-2.06-.94L8.5 2.5l-.94 2.06-2.06.94zm10 10l.94 2.06.94-2.06 2.06-.94-2.06-.94-.94-2.06-.94 2.06-2.06.94z\"/><path d=\"M17.41 7.96l-1.37-1.37c-.4-.4-.92-.59-1.43-.59-.52 0-1.04.2-1.43.59L10.3 9.45l-7.72 7.72c-.78.78-.78 2.05 0 2.83L4 21.41c.39.39.9.59 1.41.59.51 0 1.02-.2 1.41-.59l7.78-7.78 2.81-2.81c.8-.78.8-2.07 0-2.86zM5.41 20L4 18.59l7.72-7.72 1.47 1.35L5.41 20z\"/>\n",
              "  </svg>\n",
              "      </button>\n",
              "      \n",
              "  <style>\n",
              "    .colab-df-container {\n",
              "      display:flex;\n",
              "      flex-wrap:wrap;\n",
              "      gap: 12px;\n",
              "    }\n",
              "\n",
              "    .colab-df-convert {\n",
              "      background-color: #E8F0FE;\n",
              "      border: none;\n",
              "      border-radius: 50%;\n",
              "      cursor: pointer;\n",
              "      display: none;\n",
              "      fill: #1967D2;\n",
              "      height: 32px;\n",
              "      padding: 0 0 0 0;\n",
              "      width: 32px;\n",
              "    }\n",
              "\n",
              "    .colab-df-convert:hover {\n",
              "      background-color: #E2EBFA;\n",
              "      box-shadow: 0px 1px 2px rgba(60, 64, 67, 0.3), 0px 1px 3px 1px rgba(60, 64, 67, 0.15);\n",
              "      fill: #174EA6;\n",
              "    }\n",
              "\n",
              "    [theme=dark] .colab-df-convert {\n",
              "      background-color: #3B4455;\n",
              "      fill: #D2E3FC;\n",
              "    }\n",
              "\n",
              "    [theme=dark] .colab-df-convert:hover {\n",
              "      background-color: #434B5C;\n",
              "      box-shadow: 0px 1px 3px 1px rgba(0, 0, 0, 0.15);\n",
              "      filter: drop-shadow(0px 1px 2px rgba(0, 0, 0, 0.3));\n",
              "      fill: #FFFFFF;\n",
              "    }\n",
              "  </style>\n",
              "\n",
              "      <script>\n",
              "        const buttonEl =\n",
              "          document.querySelector('#df-d83c06f1-6ff0-4ba8-8793-3eb23a516c1e button.colab-df-convert');\n",
              "        buttonEl.style.display =\n",
              "          google.colab.kernel.accessAllowed ? 'block' : 'none';\n",
              "\n",
              "        async function convertToInteractive(key) {\n",
              "          const element = document.querySelector('#df-d83c06f1-6ff0-4ba8-8793-3eb23a516c1e');\n",
              "          const dataTable =\n",
              "            await google.colab.kernel.invokeFunction('convertToInteractive',\n",
              "                                                     [key], {});\n",
              "          if (!dataTable) return;\n",
              "\n",
              "          const docLinkHtml = 'Like what you see? Visit the ' +\n",
              "            '<a target=\"_blank\" href=https://colab.research.google.com/notebooks/data_table.ipynb>data table notebook</a>'\n",
              "            + ' to learn more about interactive tables.';\n",
              "          element.innerHTML = '';\n",
              "          dataTable['output_type'] = 'display_data';\n",
              "          await google.colab.output.renderOutput(dataTable, element);\n",
              "          const docLink = document.createElement('div');\n",
              "          docLink.innerHTML = docLinkHtml;\n",
              "          element.appendChild(docLink);\n",
              "        }\n",
              "      </script>\n",
              "    </div>\n",
              "  </div>\n",
              "  "
            ]
          },
          "metadata": {},
          "execution_count": 3
        }
      ]
    },
    {
      "cell_type": "code",
      "source": [
        "df1 = df.iloc[:, :8]"
      ],
      "metadata": {
        "id": "epjAwM1veGHm"
      },
      "execution_count": 4,
      "outputs": []
    },
    {
      "cell_type": "code",
      "source": [
        "df1.columns = ['surgery?', 'Age', 'Hospital_Number', 'rectal_temperature', 'pulse', 'respiratory_rate', 'temperature_extremities', 'peripheral_pulse']\n",
        "df1.head(10)\n",
        "                  "
      ],
      "metadata": {
        "colab": {
          "base_uri": "https://localhost:8080/",
          "height": 362
        },
        "id": "cbwPrKdqepPP",
        "outputId": "165226d6-fe68-486e-9e36-cf9d7bffb665"
      },
      "execution_count": 5,
      "outputs": [
        {
          "output_type": "execute_result",
          "data": {
            "text/plain": [
              "   surgery?  Age  Hospital_Number  rectal_temperature  pulse  \\\n",
              "0       2.0    1           530101                38.5   66.0   \n",
              "1       1.0    1           534817                39.2   88.0   \n",
              "2       2.0    1           530334                38.3   40.0   \n",
              "3       1.0    9          5290409                39.1  164.0   \n",
              "4       2.0    1           530255                37.3  104.0   \n",
              "5       2.0    1           528355                 NaN    NaN   \n",
              "6       1.0    1           526802                37.9   48.0   \n",
              "7       1.0    1           529607                 NaN   60.0   \n",
              "8       2.0    1           530051                 NaN   80.0   \n",
              "9       2.0    9          5299629                38.3   90.0   \n",
              "\n",
              "   respiratory_rate  temperature_extremities  peripheral_pulse  \n",
              "0              28.0                      3.0               3.0  \n",
              "1              20.0                      NaN               NaN  \n",
              "2              24.0                      1.0               1.0  \n",
              "3              84.0                      4.0               1.0  \n",
              "4              35.0                      NaN               NaN  \n",
              "5               NaN                      2.0               1.0  \n",
              "6              16.0                      1.0               1.0  \n",
              "7               NaN                      3.0               NaN  \n",
              "8              36.0                      3.0               4.0  \n",
              "9               NaN                      1.0               NaN  "
            ],
            "text/html": [
              "\n",
              "  <div id=\"df-37862b1a-268f-45eb-8e02-77b62230daf8\">\n",
              "    <div class=\"colab-df-container\">\n",
              "      <div>\n",
              "<style scoped>\n",
              "    .dataframe tbody tr th:only-of-type {\n",
              "        vertical-align: middle;\n",
              "    }\n",
              "\n",
              "    .dataframe tbody tr th {\n",
              "        vertical-align: top;\n",
              "    }\n",
              "\n",
              "    .dataframe thead th {\n",
              "        text-align: right;\n",
              "    }\n",
              "</style>\n",
              "<table border=\"1\" class=\"dataframe\">\n",
              "  <thead>\n",
              "    <tr style=\"text-align: right;\">\n",
              "      <th></th>\n",
              "      <th>surgery?</th>\n",
              "      <th>Age</th>\n",
              "      <th>Hospital_Number</th>\n",
              "      <th>rectal_temperature</th>\n",
              "      <th>pulse</th>\n",
              "      <th>respiratory_rate</th>\n",
              "      <th>temperature_extremities</th>\n",
              "      <th>peripheral_pulse</th>\n",
              "    </tr>\n",
              "  </thead>\n",
              "  <tbody>\n",
              "    <tr>\n",
              "      <th>0</th>\n",
              "      <td>2.0</td>\n",
              "      <td>1</td>\n",
              "      <td>530101</td>\n",
              "      <td>38.5</td>\n",
              "      <td>66.0</td>\n",
              "      <td>28.0</td>\n",
              "      <td>3.0</td>\n",
              "      <td>3.0</td>\n",
              "    </tr>\n",
              "    <tr>\n",
              "      <th>1</th>\n",
              "      <td>1.0</td>\n",
              "      <td>1</td>\n",
              "      <td>534817</td>\n",
              "      <td>39.2</td>\n",
              "      <td>88.0</td>\n",
              "      <td>20.0</td>\n",
              "      <td>NaN</td>\n",
              "      <td>NaN</td>\n",
              "    </tr>\n",
              "    <tr>\n",
              "      <th>2</th>\n",
              "      <td>2.0</td>\n",
              "      <td>1</td>\n",
              "      <td>530334</td>\n",
              "      <td>38.3</td>\n",
              "      <td>40.0</td>\n",
              "      <td>24.0</td>\n",
              "      <td>1.0</td>\n",
              "      <td>1.0</td>\n",
              "    </tr>\n",
              "    <tr>\n",
              "      <th>3</th>\n",
              "      <td>1.0</td>\n",
              "      <td>9</td>\n",
              "      <td>5290409</td>\n",
              "      <td>39.1</td>\n",
              "      <td>164.0</td>\n",
              "      <td>84.0</td>\n",
              "      <td>4.0</td>\n",
              "      <td>1.0</td>\n",
              "    </tr>\n",
              "    <tr>\n",
              "      <th>4</th>\n",
              "      <td>2.0</td>\n",
              "      <td>1</td>\n",
              "      <td>530255</td>\n",
              "      <td>37.3</td>\n",
              "      <td>104.0</td>\n",
              "      <td>35.0</td>\n",
              "      <td>NaN</td>\n",
              "      <td>NaN</td>\n",
              "    </tr>\n",
              "    <tr>\n",
              "      <th>5</th>\n",
              "      <td>2.0</td>\n",
              "      <td>1</td>\n",
              "      <td>528355</td>\n",
              "      <td>NaN</td>\n",
              "      <td>NaN</td>\n",
              "      <td>NaN</td>\n",
              "      <td>2.0</td>\n",
              "      <td>1.0</td>\n",
              "    </tr>\n",
              "    <tr>\n",
              "      <th>6</th>\n",
              "      <td>1.0</td>\n",
              "      <td>1</td>\n",
              "      <td>526802</td>\n",
              "      <td>37.9</td>\n",
              "      <td>48.0</td>\n",
              "      <td>16.0</td>\n",
              "      <td>1.0</td>\n",
              "      <td>1.0</td>\n",
              "    </tr>\n",
              "    <tr>\n",
              "      <th>7</th>\n",
              "      <td>1.0</td>\n",
              "      <td>1</td>\n",
              "      <td>529607</td>\n",
              "      <td>NaN</td>\n",
              "      <td>60.0</td>\n",
              "      <td>NaN</td>\n",
              "      <td>3.0</td>\n",
              "      <td>NaN</td>\n",
              "    </tr>\n",
              "    <tr>\n",
              "      <th>8</th>\n",
              "      <td>2.0</td>\n",
              "      <td>1</td>\n",
              "      <td>530051</td>\n",
              "      <td>NaN</td>\n",
              "      <td>80.0</td>\n",
              "      <td>36.0</td>\n",
              "      <td>3.0</td>\n",
              "      <td>4.0</td>\n",
              "    </tr>\n",
              "    <tr>\n",
              "      <th>9</th>\n",
              "      <td>2.0</td>\n",
              "      <td>9</td>\n",
              "      <td>5299629</td>\n",
              "      <td>38.3</td>\n",
              "      <td>90.0</td>\n",
              "      <td>NaN</td>\n",
              "      <td>1.0</td>\n",
              "      <td>NaN</td>\n",
              "    </tr>\n",
              "  </tbody>\n",
              "</table>\n",
              "</div>\n",
              "      <button class=\"colab-df-convert\" onclick=\"convertToInteractive('df-37862b1a-268f-45eb-8e02-77b62230daf8')\"\n",
              "              title=\"Convert this dataframe to an interactive table.\"\n",
              "              style=\"display:none;\">\n",
              "        \n",
              "  <svg xmlns=\"http://www.w3.org/2000/svg\" height=\"24px\"viewBox=\"0 0 24 24\"\n",
              "       width=\"24px\">\n",
              "    <path d=\"M0 0h24v24H0V0z\" fill=\"none\"/>\n",
              "    <path d=\"M18.56 5.44l.94 2.06.94-2.06 2.06-.94-2.06-.94-.94-2.06-.94 2.06-2.06.94zm-11 1L8.5 8.5l.94-2.06 2.06-.94-2.06-.94L8.5 2.5l-.94 2.06-2.06.94zm10 10l.94 2.06.94-2.06 2.06-.94-2.06-.94-.94-2.06-.94 2.06-2.06.94z\"/><path d=\"M17.41 7.96l-1.37-1.37c-.4-.4-.92-.59-1.43-.59-.52 0-1.04.2-1.43.59L10.3 9.45l-7.72 7.72c-.78.78-.78 2.05 0 2.83L4 21.41c.39.39.9.59 1.41.59.51 0 1.02-.2 1.41-.59l7.78-7.78 2.81-2.81c.8-.78.8-2.07 0-2.86zM5.41 20L4 18.59l7.72-7.72 1.47 1.35L5.41 20z\"/>\n",
              "  </svg>\n",
              "      </button>\n",
              "      \n",
              "  <style>\n",
              "    .colab-df-container {\n",
              "      display:flex;\n",
              "      flex-wrap:wrap;\n",
              "      gap: 12px;\n",
              "    }\n",
              "\n",
              "    .colab-df-convert {\n",
              "      background-color: #E8F0FE;\n",
              "      border: none;\n",
              "      border-radius: 50%;\n",
              "      cursor: pointer;\n",
              "      display: none;\n",
              "      fill: #1967D2;\n",
              "      height: 32px;\n",
              "      padding: 0 0 0 0;\n",
              "      width: 32px;\n",
              "    }\n",
              "\n",
              "    .colab-df-convert:hover {\n",
              "      background-color: #E2EBFA;\n",
              "      box-shadow: 0px 1px 2px rgba(60, 64, 67, 0.3), 0px 1px 3px 1px rgba(60, 64, 67, 0.15);\n",
              "      fill: #174EA6;\n",
              "    }\n",
              "\n",
              "    [theme=dark] .colab-df-convert {\n",
              "      background-color: #3B4455;\n",
              "      fill: #D2E3FC;\n",
              "    }\n",
              "\n",
              "    [theme=dark] .colab-df-convert:hover {\n",
              "      background-color: #434B5C;\n",
              "      box-shadow: 0px 1px 3px 1px rgba(0, 0, 0, 0.15);\n",
              "      filter: drop-shadow(0px 1px 2px rgba(0, 0, 0, 0.3));\n",
              "      fill: #FFFFFF;\n",
              "    }\n",
              "  </style>\n",
              "\n",
              "      <script>\n",
              "        const buttonEl =\n",
              "          document.querySelector('#df-37862b1a-268f-45eb-8e02-77b62230daf8 button.colab-df-convert');\n",
              "        buttonEl.style.display =\n",
              "          google.colab.kernel.accessAllowed ? 'block' : 'none';\n",
              "\n",
              "        async function convertToInteractive(key) {\n",
              "          const element = document.querySelector('#df-37862b1a-268f-45eb-8e02-77b62230daf8');\n",
              "          const dataTable =\n",
              "            await google.colab.kernel.invokeFunction('convertToInteractive',\n",
              "                                                     [key], {});\n",
              "          if (!dataTable) return;\n",
              "\n",
              "          const docLinkHtml = 'Like what you see? Visit the ' +\n",
              "            '<a target=\"_blank\" href=https://colab.research.google.com/notebooks/data_table.ipynb>data table notebook</a>'\n",
              "            + ' to learn more about interactive tables.';\n",
              "          element.innerHTML = '';\n",
              "          dataTable['output_type'] = 'display_data';\n",
              "          await google.colab.output.renderOutput(dataTable, element);\n",
              "          const docLink = document.createElement('div');\n",
              "          docLink.innerHTML = docLinkHtml;\n",
              "          element.appendChild(docLink);\n",
              "        }\n",
              "      </script>\n",
              "    </div>\n",
              "  </div>\n",
              "  "
            ]
          },
          "metadata": {},
          "execution_count": 5
        }
      ]
    },
    {
      "cell_type": "code",
      "source": [
        "df1.info()"
      ],
      "metadata": {
        "colab": {
          "base_uri": "https://localhost:8080/"
        },
        "id": "klvUVbXCmrsB",
        "outputId": "8cb72329-b1ab-4b26-ed2a-d03638def7e3"
      },
      "execution_count": 6,
      "outputs": [
        {
          "output_type": "stream",
          "name": "stdout",
          "text": [
            "<class 'pandas.core.frame.DataFrame'>\n",
            "RangeIndex: 300 entries, 0 to 299\n",
            "Data columns (total 8 columns):\n",
            " #   Column                   Non-Null Count  Dtype  \n",
            "---  ------                   --------------  -----  \n",
            " 0   surgery?                 299 non-null    float64\n",
            " 1   Age                      300 non-null    int64  \n",
            " 2   Hospital_Number          300 non-null    int64  \n",
            " 3   rectal_temperature       240 non-null    float64\n",
            " 4   pulse                    276 non-null    float64\n",
            " 5   respiratory_rate         242 non-null    float64\n",
            " 6   temperature_extremities  244 non-null    float64\n",
            " 7   peripheral_pulse         231 non-null    float64\n",
            "dtypes: float64(6), int64(2)\n",
            "memory usage: 18.9 KB\n"
          ]
        }
      ]
    },
    {
      "cell_type": "code",
      "source": [
        "df1['surgery?'].value_counts()"
      ],
      "metadata": {
        "colab": {
          "base_uri": "https://localhost:8080/"
        },
        "id": "wTyGh8mamSUx",
        "outputId": "bb26b744-a751-424d-9859-980f6fdfb4bf"
      },
      "execution_count": 7,
      "outputs": [
        {
          "output_type": "execute_result",
          "data": {
            "text/plain": [
              "1.0    180\n",
              "2.0    119\n",
              "Name: surgery?, dtype: int64"
            ]
          },
          "metadata": {},
          "execution_count": 7
        }
      ]
    },
    {
      "cell_type": "code",
      "source": [
        "df1['Age'].value_counts()"
      ],
      "metadata": {
        "colab": {
          "base_uri": "https://localhost:8080/"
        },
        "id": "fPs1e2kJmpDN",
        "outputId": "8dc4bc1c-7520-45af-84ab-f24ff60bbeed"
      },
      "execution_count": 8,
      "outputs": [
        {
          "output_type": "execute_result",
          "data": {
            "text/plain": [
              "1    276\n",
              "9     24\n",
              "Name: Age, dtype: int64"
            ]
          },
          "metadata": {},
          "execution_count": 8
        }
      ]
    },
    {
      "cell_type": "code",
      "source": [
        "df1['Hospital_Number'].value_counts()"
      ],
      "metadata": {
        "colab": {
          "base_uri": "https://localhost:8080/"
        },
        "id": "cu4lkBRzm870",
        "outputId": "90784a4e-b64c-4e9c-8131-664ebdf1bc7f"
      },
      "execution_count": 9,
      "outputs": [
        {
          "output_type": "execute_result",
          "data": {
            "text/plain": [
              "532349     2\n",
              "528151     2\n",
              "5279822    2\n",
              "528469     2\n",
              "529424     2\n",
              "          ..\n",
              "533696     1\n",
              "5297379    1\n",
              "533736     1\n",
              "534963     1\n",
              "534618     1\n",
              "Name: Hospital_Number, Length: 284, dtype: int64"
            ]
          },
          "metadata": {},
          "execution_count": 9
        }
      ]
    },
    {
      "cell_type": "code",
      "source": [
        "df1['rectal_temperature'].value_counts()"
      ],
      "metadata": {
        "colab": {
          "base_uri": "https://localhost:8080/"
        },
        "id": "YGEpDzHAnOj_",
        "outputId": "b7c2b343-5b77-475b-8d5c-eaef63816a8f"
      },
      "execution_count": 10,
      "outputs": [
        {
          "output_type": "execute_result",
          "data": {
            "text/plain": [
              "38.0    26\n",
              "38.5    19\n",
              "38.3    18\n",
              "37.8    17\n",
              "38.2    16\n",
              "38.1    12\n",
              "37.5    12\n",
              "38.6    12\n",
              "38.4    11\n",
              "37.9     7\n",
              "37.2     7\n",
              "37.6     7\n",
              "37.7     7\n",
              "38.7     7\n",
              "37.3     6\n",
              "38.8     6\n",
              "39.2     5\n",
              "39.5     4\n",
              "39.3     4\n",
              "38.9     4\n",
              "39.0     4\n",
              "39.4     3\n",
              "37.1     3\n",
              "37.4     3\n",
              "40.3     2\n",
              "37.0     2\n",
              "39.1     2\n",
              "36.5     2\n",
              "36.9     1\n",
              "40.8     1\n",
              "36.6     1\n",
              "36.1     1\n",
              "35.4     1\n",
              "36.0     1\n",
              "36.8     1\n",
              "39.6     1\n",
              "39.9     1\n",
              "36.4     1\n",
              "39.7     1\n",
              "40.0     1\n",
              "Name: rectal_temperature, dtype: int64"
            ]
          },
          "metadata": {},
          "execution_count": 10
        }
      ]
    },
    {
      "cell_type": "code",
      "source": [
        "df1['pulse'].value_counts()"
      ],
      "metadata": {
        "colab": {
          "base_uri": "https://localhost:8080/"
        },
        "id": "gV7MUkPnnjM_",
        "outputId": "e195fa12-2183-4a9f-a435-d144add7d4b7"
      },
      "execution_count": 11,
      "outputs": [
        {
          "output_type": "execute_result",
          "data": {
            "text/plain": [
              "48.0     28\n",
              "60.0     25\n",
              "40.0     18\n",
              "52.0     12\n",
              "88.0     12\n",
              "44.0     11\n",
              "100.0    11\n",
              "72.0     11\n",
              "120.0    10\n",
              "42.0     10\n",
              "64.0      8\n",
              "96.0      8\n",
              "84.0      8\n",
              "80.0      8\n",
              "54.0      7\n",
              "56.0      7\n",
              "50.0      6\n",
              "66.0      6\n",
              "104.0     5\n",
              "68.0      5\n",
              "92.0      4\n",
              "70.0      4\n",
              "76.0      4\n",
              "108.0     3\n",
              "86.0      3\n",
              "78.0      3\n",
              "90.0      3\n",
              "36.0      3\n",
              "112.0     3\n",
              "114.0     2\n",
              "45.0      2\n",
              "140.0     2\n",
              "124.0     2\n",
              "150.0     2\n",
              "130.0     2\n",
              "30.0      2\n",
              "132.0     1\n",
              "129.0     1\n",
              "184.0     1\n",
              "75.0      1\n",
              "65.0      1\n",
              "164.0     1\n",
              "136.0     1\n",
              "49.0      1\n",
              "98.0      1\n",
              "38.0      1\n",
              "160.0     1\n",
              "46.0      1\n",
              "128.0     1\n",
              "146.0     1\n",
              "110.0     1\n",
              "82.0      1\n",
              "Name: pulse, dtype: int64"
            ]
          },
          "metadata": {},
          "execution_count": 11
        }
      ]
    },
    {
      "cell_type": "code",
      "source": [
        "df1['temperature_extremities'].value_counts()"
      ],
      "metadata": {
        "colab": {
          "base_uri": "https://localhost:8080/"
        },
        "id": "F0myPPZm-RJu",
        "outputId": "b676831f-20b3-4fa5-d981-662aadf39132"
      },
      "execution_count": 12,
      "outputs": [
        {
          "output_type": "execute_result",
          "data": {
            "text/plain": [
              "3.0    109\n",
              "1.0     78\n",
              "2.0     30\n",
              "4.0     27\n",
              "Name: temperature_extremities, dtype: int64"
            ]
          },
          "metadata": {},
          "execution_count": 12
        }
      ]
    },
    {
      "cell_type": "code",
      "source": [
        "df1['peripheral_pulse'].value_counts()"
      ],
      "metadata": {
        "colab": {
          "base_uri": "https://localhost:8080/"
        },
        "id": "ddQ4p3rw-ixD",
        "outputId": "6eaa817b-3241-4f2f-b9ff-e5356dec94e9"
      },
      "execution_count": 13,
      "outputs": [
        {
          "output_type": "execute_result",
          "data": {
            "text/plain": [
              "1.0    115\n",
              "3.0    103\n",
              "4.0      8\n",
              "2.0      5\n",
              "Name: peripheral_pulse, dtype: int64"
            ]
          },
          "metadata": {},
          "execution_count": 13
        }
      ]
    },
    {
      "cell_type": "code",
      "source": [
        "print('Max_rectal_temperature = ', max(df1['rectal_temperature']))\n",
        "print('Max_pulse = ', np.max(df1['pulse']))\n",
        "print('Max_respiratory_rate = ',df1['respiratory_rate'].max())\n"
      ],
      "metadata": {
        "colab": {
          "base_uri": "https://localhost:8080/"
        },
        "id": "pbD4qqSzl8JD",
        "outputId": "e03f4f3e-fee5-4e25-ac79-79ba5b358889"
      },
      "execution_count": 14,
      "outputs": [
        {
          "output_type": "stream",
          "name": "stdout",
          "text": [
            "Max_rectal_temperature =  40.8\n",
            "Max_pulse =  184.0\n",
            "Max_respiratory_rate =  96.0\n"
          ]
        }
      ]
    },
    {
      "cell_type": "code",
      "source": [
        "print('Min_rectal_temperature = ', min(df1['rectal_temperature']))\n",
        "print('Min_pulse = ', np.min(df1['pulse']))\n",
        "print('Min_respiratory_rate = ',df1['respiratory_rate'].min())"
      ],
      "metadata": {
        "colab": {
          "base_uri": "https://localhost:8080/"
        },
        "id": "0HNGt_mW20kT",
        "outputId": "2f237d0d-0266-451e-bbb6-104a6242d91b"
      },
      "execution_count": 15,
      "outputs": [
        {
          "output_type": "stream",
          "name": "stdout",
          "text": [
            "Min_rectal_temperature =  35.4\n",
            "Min_pulse =  30.0\n",
            "Min_respiratory_rate =  8.0\n"
          ]
        }
      ]
    },
    {
      "cell_type": "code",
      "source": [
        "rectal_temperature_range = df1['rectal_temperature'].max() - df1['rectal_temperature'].min()\n",
        "print('rectal_temperature_range = ', rectal_temperature_range)\n",
        "pulse_range = df1['pulse'].max() - df1['pulse'].min()\n",
        "print('pulse_range = ', pulse_range)\n",
        "respiratory_rate_range = df1['respiratory_rate'].max() - df1['respiratory_rate'].min()\n",
        "print('respiratory_rate_range = ', respiratory_rate_range)"
      ],
      "metadata": {
        "colab": {
          "base_uri": "https://localhost:8080/"
        },
        "id": "tOAeWIqF3MKi",
        "outputId": "aa3958e7-9fc3-4cdb-9f1a-38f1fbeee518"
      },
      "execution_count": 16,
      "outputs": [
        {
          "output_type": "stream",
          "name": "stdout",
          "text": [
            "rectal_temperature_range =  5.399999999999999\n",
            "pulse_range =  154.0\n",
            "respiratory_rate_range =  88.0\n"
          ]
        }
      ]
    },
    {
      "cell_type": "markdown",
      "source": [
        "#Среднеарифметическое"
      ],
      "metadata": {
        "id": "N5pjEBNzIIxm"
      }
    },
    {
      "cell_type": "code",
      "source": [
        "print('rectal_temperature_mean = ', np.mean(df1['rectal_temperature']))\n",
        "print('pulse_mean = ', df1['pulse'].mean())\n",
        "print('respiratory_rate_mean = ', df1['respiratory_rate'].mean())"
      ],
      "metadata": {
        "colab": {
          "base_uri": "https://localhost:8080/"
        },
        "id": "5CEiEME3IPb_",
        "outputId": "80ee04f2-2855-4fae-8b12-5faa7142bbe6"
      },
      "execution_count": 17,
      "outputs": [
        {
          "output_type": "stream",
          "name": "stdout",
          "text": [
            "rectal_temperature_mean =  38.16791666666667\n",
            "pulse_mean =  71.91304347826087\n",
            "respiratory_rate_mean =  30.417355371900825\n"
          ]
        }
      ]
    },
    {
      "cell_type": "markdown",
      "source": [
        "#Мода"
      ],
      "metadata": {
        "id": "DHALDB2gQemE"
      }
    },
    {
      "cell_type": "code",
      "source": [
        "print ('rectal_temperature_mode = ', df1['rectal_temperature'].mode()[0])\n",
        "print('pulse_mode = ', df1['pulse'].mode()[0])\n",
        "print('respiratory_rate_mode = ', df1['respiratory_rate'].mode()[0])"
      ],
      "metadata": {
        "colab": {
          "base_uri": "https://localhost:8080/"
        },
        "id": "0DPKupNPPCPM",
        "outputId": "fbd0a360-cd81-4a86-8935-f68dc4d1d312"
      },
      "execution_count": 18,
      "outputs": [
        {
          "output_type": "stream",
          "name": "stdout",
          "text": [
            "rectal_temperature_mode =  38.0\n",
            "pulse_mode =  48.0\n",
            "respiratory_rate_mode =  20.0\n"
          ]
        }
      ]
    },
    {
      "cell_type": "markdown",
      "source": [
        "#Медиана"
      ],
      "metadata": {
        "id": "PyhmjhrgQm60"
      }
    },
    {
      "cell_type": "code",
      "source": [
        "print('rectal_temperature_median = ', df1['rectal_temperature'].median())\n",
        "print('pulse_median = ', df1['pulse'].median())\n",
        "print('respiratory_rate_mode = ', df1['respiratory_rate'].median())\n"
      ],
      "metadata": {
        "colab": {
          "base_uri": "https://localhost:8080/"
        },
        "id": "wM14udWlP_uZ",
        "outputId": "5c5c1023-db3e-4237-808a-6c40ab455d02"
      },
      "execution_count": 19,
      "outputs": [
        {
          "output_type": "stream",
          "name": "stdout",
          "text": [
            "rectal_temperature_median =  38.2\n",
            "pulse_median =  64.0\n",
            "respiratory_rate_mode =  24.5\n"
          ]
        }
      ]
    },
    {
      "cell_type": "markdown",
      "source": [
        "#СКО"
      ],
      "metadata": {
        "id": "kYVTYkVeSve6"
      }
    },
    {
      "cell_type": "code",
      "source": [
        "print('rectal_temperature_std =', df1['rectal_temperature'].std())\n",
        "print('pulse_std = ', np.std(df1['pulse'], ddof=1))\n",
        "print('respiratory_rate_std = ', df1['respiratory_rate'].std())"
      ],
      "metadata": {
        "colab": {
          "base_uri": "https://localhost:8080/"
        },
        "id": "BmGo5mCvSy_a",
        "outputId": "7e9475a5-45dc-4268-af52-875896d0d499"
      },
      "execution_count": 20,
      "outputs": [
        {
          "output_type": "stream",
          "name": "stdout",
          "text": [
            "rectal_temperature_std = 0.7322886641121578\n",
            "pulse_std =  28.630556660735\n",
            "respiratory_rate_std =  17.64223138513467\n"
          ]
        }
      ]
    },
    {
      "cell_type": "markdown",
      "source": [
        "#Дисперсия"
      ],
      "metadata": {
        "id": "0f90BqwxTvfB"
      }
    },
    {
      "cell_type": "code",
      "source": [
        "print('rectal_temperature_var =', df1['rectal_temperature'].var())\n",
        "print('pulse_var = ', np.var(df1['pulse'], ddof=1))\n",
        "print('respiratory_rate_var = ', df1['respiratory_rate'].var())"
      ],
      "metadata": {
        "colab": {
          "base_uri": "https://localhost:8080/"
        },
        "id": "QFHIGVNCI5Os",
        "outputId": "5729fb62-7147-4e9e-fd15-b66b9d6b5a65"
      },
      "execution_count": 21,
      "outputs": [
        {
          "output_type": "stream",
          "name": "stdout",
          "text": [
            "rectal_temperature_var = 0.5362466875871686\n",
            "pulse_var =  819.7087747035573\n",
            "respiratory_rate_var =  311.2483282466308\n"
          ]
        }
      ]
    },
    {
      "cell_type": "markdown",
      "source": [
        "Квантили"
      ],
      "metadata": {
        "id": "Ct_d7FUVLL2n"
      }
    },
    {
      "cell_type": "code",
      "source": [
        "print('rectal_temperature_quantile ', df1['rectal_temperature'].quantile([0.25, 0.5, 0.75]))\n",
        "print('pulse_quantile ', df1['pulse'].quantile([0.25, 0.5, 0.75]))\n",
        "print('respiratory_rate_quantile ', df1['rectal_temperature'].quantile([0.25, 0.5, 0.75]))"
      ],
      "metadata": {
        "colab": {
          "base_uri": "https://localhost:8080/"
        },
        "id": "kYK-AcAOJvHf",
        "outputId": "d753b4ff-de5f-47d1-ae36-dd21d895ba91"
      },
      "execution_count": 22,
      "outputs": [
        {
          "output_type": "stream",
          "name": "stdout",
          "text": [
            "rectal_temperature_quantile  0.25    37.8\n",
            "0.50    38.2\n",
            "0.75    38.5\n",
            "Name: rectal_temperature, dtype: float64\n",
            "pulse_quantile  0.25    48.0\n",
            "0.50    64.0\n",
            "0.75    88.0\n",
            "Name: pulse, dtype: float64\n",
            "respiratory_rate_quantile  0.25    37.8\n",
            "0.50    38.2\n",
            "0.75    38.5\n",
            "Name: rectal_temperature, dtype: float64\n"
          ]
        }
      ]
    },
    {
      "cell_type": "code",
      "source": [
        "# межквартильный размах\n",
        "rectal_temperature_IQR = df1['rectal_temperature'].quantile(0.75) - df1['rectal_temperature'].quantile(0.25)\n",
        "print('rectal_temperature_IQR=', rectal_temperature_IQR)\n",
        "pulse_IQR = df1['pulse'].quantile(0.75) - df1['pulse'].quantile(0.25)\n",
        "print('pulse_IQR= ', pulse_IQR)\n",
        "respiratory_rate_IQR = df1['respiratory_rate'].quantile(0.75) - df1['respiratory_rate'].quantile(0.25)\n",
        "print('respiratory_rate_IQR= ', respiratory_rate_IQR )"
      ],
      "metadata": {
        "colab": {
          "base_uri": "https://localhost:8080/"
        },
        "id": "W_Rw6QmILulf",
        "outputId": "f4b6f269-a53d-4a86-dbaf-1e65d80124aa"
      },
      "execution_count": 23,
      "outputs": [
        {
          "output_type": "stream",
          "name": "stdout",
          "text": [
            "rectal_temperature_IQR= 0.7000000000000028\n",
            "pulse_IQR=  40.0\n",
            "respiratory_rate_IQR=  17.5\n"
          ]
        }
      ]
    },
    {
      "cell_type": "code",
      "source": [
        "df1.describe()"
      ],
      "metadata": {
        "colab": {
          "base_uri": "https://localhost:8080/",
          "height": 364
        },
        "id": "Ho3kFDRpNEB-",
        "outputId": "d9e13651-104c-4cc9-e3f4-30bc95234e8e"
      },
      "execution_count": 24,
      "outputs": [
        {
          "output_type": "execute_result",
          "data": {
            "text/plain": [
              "         surgery?         Age  Hospital_Number  rectal_temperature  \\\n",
              "count  299.000000  300.000000     3.000000e+02          240.000000   \n",
              "mean     1.397993    1.640000     1.085889e+06           38.167917   \n",
              "std      0.490305    2.173972     1.529801e+06            0.732289   \n",
              "min      1.000000    1.000000     5.184760e+05           35.400000   \n",
              "25%      1.000000    1.000000     5.289040e+05           37.800000   \n",
              "50%      1.000000    1.000000     5.303055e+05           38.200000   \n",
              "75%      2.000000    1.000000     5.347275e+05           38.500000   \n",
              "max      2.000000    9.000000     5.305629e+06           40.800000   \n",
              "\n",
              "            pulse  respiratory_rate  temperature_extremities  peripheral_pulse  \n",
              "count  276.000000        242.000000               244.000000        231.000000  \n",
              "mean    71.913043         30.417355                 2.348361          2.017316  \n",
              "std     28.630557         17.642231                 1.045054          1.042428  \n",
              "min     30.000000          8.000000                 1.000000          1.000000  \n",
              "25%     48.000000         18.500000                 1.000000          1.000000  \n",
              "50%     64.000000         24.500000                 3.000000          2.000000  \n",
              "75%     88.000000         36.000000                 3.000000          3.000000  \n",
              "max    184.000000         96.000000                 4.000000          4.000000  "
            ],
            "text/html": [
              "\n",
              "  <div id=\"df-5783478c-9dcf-48e2-951b-bf2d4730f121\">\n",
              "    <div class=\"colab-df-container\">\n",
              "      <div>\n",
              "<style scoped>\n",
              "    .dataframe tbody tr th:only-of-type {\n",
              "        vertical-align: middle;\n",
              "    }\n",
              "\n",
              "    .dataframe tbody tr th {\n",
              "        vertical-align: top;\n",
              "    }\n",
              "\n",
              "    .dataframe thead th {\n",
              "        text-align: right;\n",
              "    }\n",
              "</style>\n",
              "<table border=\"1\" class=\"dataframe\">\n",
              "  <thead>\n",
              "    <tr style=\"text-align: right;\">\n",
              "      <th></th>\n",
              "      <th>surgery?</th>\n",
              "      <th>Age</th>\n",
              "      <th>Hospital_Number</th>\n",
              "      <th>rectal_temperature</th>\n",
              "      <th>pulse</th>\n",
              "      <th>respiratory_rate</th>\n",
              "      <th>temperature_extremities</th>\n",
              "      <th>peripheral_pulse</th>\n",
              "    </tr>\n",
              "  </thead>\n",
              "  <tbody>\n",
              "    <tr>\n",
              "      <th>count</th>\n",
              "      <td>299.000000</td>\n",
              "      <td>300.000000</td>\n",
              "      <td>3.000000e+02</td>\n",
              "      <td>240.000000</td>\n",
              "      <td>276.000000</td>\n",
              "      <td>242.000000</td>\n",
              "      <td>244.000000</td>\n",
              "      <td>231.000000</td>\n",
              "    </tr>\n",
              "    <tr>\n",
              "      <th>mean</th>\n",
              "      <td>1.397993</td>\n",
              "      <td>1.640000</td>\n",
              "      <td>1.085889e+06</td>\n",
              "      <td>38.167917</td>\n",
              "      <td>71.913043</td>\n",
              "      <td>30.417355</td>\n",
              "      <td>2.348361</td>\n",
              "      <td>2.017316</td>\n",
              "    </tr>\n",
              "    <tr>\n",
              "      <th>std</th>\n",
              "      <td>0.490305</td>\n",
              "      <td>2.173972</td>\n",
              "      <td>1.529801e+06</td>\n",
              "      <td>0.732289</td>\n",
              "      <td>28.630557</td>\n",
              "      <td>17.642231</td>\n",
              "      <td>1.045054</td>\n",
              "      <td>1.042428</td>\n",
              "    </tr>\n",
              "    <tr>\n",
              "      <th>min</th>\n",
              "      <td>1.000000</td>\n",
              "      <td>1.000000</td>\n",
              "      <td>5.184760e+05</td>\n",
              "      <td>35.400000</td>\n",
              "      <td>30.000000</td>\n",
              "      <td>8.000000</td>\n",
              "      <td>1.000000</td>\n",
              "      <td>1.000000</td>\n",
              "    </tr>\n",
              "    <tr>\n",
              "      <th>25%</th>\n",
              "      <td>1.000000</td>\n",
              "      <td>1.000000</td>\n",
              "      <td>5.289040e+05</td>\n",
              "      <td>37.800000</td>\n",
              "      <td>48.000000</td>\n",
              "      <td>18.500000</td>\n",
              "      <td>1.000000</td>\n",
              "      <td>1.000000</td>\n",
              "    </tr>\n",
              "    <tr>\n",
              "      <th>50%</th>\n",
              "      <td>1.000000</td>\n",
              "      <td>1.000000</td>\n",
              "      <td>5.303055e+05</td>\n",
              "      <td>38.200000</td>\n",
              "      <td>64.000000</td>\n",
              "      <td>24.500000</td>\n",
              "      <td>3.000000</td>\n",
              "      <td>2.000000</td>\n",
              "    </tr>\n",
              "    <tr>\n",
              "      <th>75%</th>\n",
              "      <td>2.000000</td>\n",
              "      <td>1.000000</td>\n",
              "      <td>5.347275e+05</td>\n",
              "      <td>38.500000</td>\n",
              "      <td>88.000000</td>\n",
              "      <td>36.000000</td>\n",
              "      <td>3.000000</td>\n",
              "      <td>3.000000</td>\n",
              "    </tr>\n",
              "    <tr>\n",
              "      <th>max</th>\n",
              "      <td>2.000000</td>\n",
              "      <td>9.000000</td>\n",
              "      <td>5.305629e+06</td>\n",
              "      <td>40.800000</td>\n",
              "      <td>184.000000</td>\n",
              "      <td>96.000000</td>\n",
              "      <td>4.000000</td>\n",
              "      <td>4.000000</td>\n",
              "    </tr>\n",
              "  </tbody>\n",
              "</table>\n",
              "</div>\n",
              "      <button class=\"colab-df-convert\" onclick=\"convertToInteractive('df-5783478c-9dcf-48e2-951b-bf2d4730f121')\"\n",
              "              title=\"Convert this dataframe to an interactive table.\"\n",
              "              style=\"display:none;\">\n",
              "        \n",
              "  <svg xmlns=\"http://www.w3.org/2000/svg\" height=\"24px\"viewBox=\"0 0 24 24\"\n",
              "       width=\"24px\">\n",
              "    <path d=\"M0 0h24v24H0V0z\" fill=\"none\"/>\n",
              "    <path d=\"M18.56 5.44l.94 2.06.94-2.06 2.06-.94-2.06-.94-.94-2.06-.94 2.06-2.06.94zm-11 1L8.5 8.5l.94-2.06 2.06-.94-2.06-.94L8.5 2.5l-.94 2.06-2.06.94zm10 10l.94 2.06.94-2.06 2.06-.94-2.06-.94-.94-2.06-.94 2.06-2.06.94z\"/><path d=\"M17.41 7.96l-1.37-1.37c-.4-.4-.92-.59-1.43-.59-.52 0-1.04.2-1.43.59L10.3 9.45l-7.72 7.72c-.78.78-.78 2.05 0 2.83L4 21.41c.39.39.9.59 1.41.59.51 0 1.02-.2 1.41-.59l7.78-7.78 2.81-2.81c.8-.78.8-2.07 0-2.86zM5.41 20L4 18.59l7.72-7.72 1.47 1.35L5.41 20z\"/>\n",
              "  </svg>\n",
              "      </button>\n",
              "      \n",
              "  <style>\n",
              "    .colab-df-container {\n",
              "      display:flex;\n",
              "      flex-wrap:wrap;\n",
              "      gap: 12px;\n",
              "    }\n",
              "\n",
              "    .colab-df-convert {\n",
              "      background-color: #E8F0FE;\n",
              "      border: none;\n",
              "      border-radius: 50%;\n",
              "      cursor: pointer;\n",
              "      display: none;\n",
              "      fill: #1967D2;\n",
              "      height: 32px;\n",
              "      padding: 0 0 0 0;\n",
              "      width: 32px;\n",
              "    }\n",
              "\n",
              "    .colab-df-convert:hover {\n",
              "      background-color: #E2EBFA;\n",
              "      box-shadow: 0px 1px 2px rgba(60, 64, 67, 0.3), 0px 1px 3px 1px rgba(60, 64, 67, 0.15);\n",
              "      fill: #174EA6;\n",
              "    }\n",
              "\n",
              "    [theme=dark] .colab-df-convert {\n",
              "      background-color: #3B4455;\n",
              "      fill: #D2E3FC;\n",
              "    }\n",
              "\n",
              "    [theme=dark] .colab-df-convert:hover {\n",
              "      background-color: #434B5C;\n",
              "      box-shadow: 0px 1px 3px 1px rgba(0, 0, 0, 0.15);\n",
              "      filter: drop-shadow(0px 1px 2px rgba(0, 0, 0, 0.3));\n",
              "      fill: #FFFFFF;\n",
              "    }\n",
              "  </style>\n",
              "\n",
              "      <script>\n",
              "        const buttonEl =\n",
              "          document.querySelector('#df-5783478c-9dcf-48e2-951b-bf2d4730f121 button.colab-df-convert');\n",
              "        buttonEl.style.display =\n",
              "          google.colab.kernel.accessAllowed ? 'block' : 'none';\n",
              "\n",
              "        async function convertToInteractive(key) {\n",
              "          const element = document.querySelector('#df-5783478c-9dcf-48e2-951b-bf2d4730f121');\n",
              "          const dataTable =\n",
              "            await google.colab.kernel.invokeFunction('convertToInteractive',\n",
              "                                                     [key], {});\n",
              "          if (!dataTable) return;\n",
              "\n",
              "          const docLinkHtml = 'Like what you see? Visit the ' +\n",
              "            '<a target=\"_blank\" href=https://colab.research.google.com/notebooks/data_table.ipynb>data table notebook</a>'\n",
              "            + ' to learn more about interactive tables.';\n",
              "          element.innerHTML = '';\n",
              "          dataTable['output_type'] = 'display_data';\n",
              "          await google.colab.output.renderOutput(dataTable, element);\n",
              "          const docLink = document.createElement('div');\n",
              "          docLink.innerHTML = docLinkHtml;\n",
              "          element.appendChild(docLink);\n",
              "        }\n",
              "      </script>\n",
              "    </div>\n",
              "  </div>\n",
              "  "
            ]
          },
          "metadata": {},
          "execution_count": 24
        }
      ]
    },
    {
      "cell_type": "code",
      "source": [
        "df1.rectal_temperature.hist()"
      ],
      "metadata": {
        "colab": {
          "base_uri": "https://localhost:8080/",
          "height": 283
        },
        "id": "9PcLOUp6GDWa",
        "outputId": "bf38f16b-17f0-4655-bd5e-70c8e9bd3aff"
      },
      "execution_count": 25,
      "outputs": [
        {
          "output_type": "execute_result",
          "data": {
            "text/plain": [
              "<matplotlib.axes._subplots.AxesSubplot at 0x7f498b727ac0>"
            ]
          },
          "metadata": {},
          "execution_count": 25
        },
        {
          "output_type": "display_data",
          "data": {
            "text/plain": [
              "<Figure size 432x288 with 1 Axes>"
            ],
            "image/png": "[encoded data removed]"
          },
          "metadata": {
            "needs_background": "light"
          }
        }
      ]
    },
    {
      "cell_type": "code",
      "source": [
        "sns.boxplot(df1['rectal_temperature'])\n",
        "plt.title(\"Box Plot rectal temperature\")\n",
        "plt.show() "
      ],
      "metadata": {
        "colab": {
          "base_uri": "https://localhost:8080/",
          "height": 352
        },
        "id": "KS_lCiHO4Ljj",
        "outputId": "6e7e0355-8896-417b-cc93-61330dd4af15"
      },
      "execution_count": 26,
      "outputs": [
        {
          "output_type": "stream",
          "name": "stderr",
          "text": [
            "/usr/local/lib/python3.8/dist-packages/seaborn/_decorators.py:36: FutureWarning: Pass the following variable as a keyword arg: x. From version 0.12, the only valid positional argument will be `data`, and passing other arguments without an explicit keyword will result in an error or misinterpretation.\n",
            "  warnings.warn(\n"
          ]
        },
        {
          "output_type": "display_data",
          "data": {
            "text/plain": [
              "<Figure size 432x288 with 1 Axes>"
            ],
            "image/png": "[encoded data removed]"
          },
          "metadata": {
            "needs_background": "light"
          }
        }
      ]
    },
    {
      "cell_type": "code",
      "source": [
        "df1.pulse.hist()"
      ],
      "metadata": {
        "colab": {
          "base_uri": "https://localhost:8080/",
          "height": 283
        },
        "id": "IPWjKxhzGRyz",
        "outputId": "9cc2cdb7-665c-443d-acda-24b9beb0f298"
      },
      "execution_count": 27,
      "outputs": [
        {
          "output_type": "execute_result",
          "data": {
            "text/plain": [
              "<matplotlib.axes._subplots.AxesSubplot at 0x7f498b1a9280>"
            ]
          },
          "metadata": {},
          "execution_count": 27
        },
        {
          "output_type": "display_data",
          "data": {
            "text/plain": [
              "<Figure size 432x288 with 1 Axes>"
            ],
            "image/png": "[encoded data removed]"
          },
          "metadata": {
            "needs_background": "light"
          }
        }
      ]
    },
    {
      "cell_type": "code",
      "source": [
        "sns.boxplot(df1['pulse'])\n",
        "plt.title(\"Box Plot pulse\")\n",
        "plt.show()"
      ],
      "metadata": {
        "colab": {
          "base_uri": "https://localhost:8080/",
          "height": 351
        },
        "id": "FN8omqM04nST",
        "outputId": "9b6563d9-194c-47b2-bb8c-33caabb82adf"
      },
      "execution_count": 28,
      "outputs": [
        {
          "output_type": "stream",
          "name": "stderr",
          "text": [
            "/usr/local/lib/python3.8/dist-packages/seaborn/_decorators.py:36: FutureWarning: Pass the following variable as a keyword arg: x. From version 0.12, the only valid positional argument will be `data`, and passing other arguments without an explicit keyword will result in an error or misinterpretation.\n",
            "  warnings.warn(\n"
          ]
        },
        {
          "output_type": "display_data",
          "data": {
            "text/plain": [
              "<Figure size 432x288 with 1 Axes>"
            ],
            "image/png": "[encoded data removed]"
          },
          "metadata": {
            "needs_background": "light"
          }
        }
      ]
    },
    {
      "cell_type": "code",
      "source": [
        "sns.boxplot(df1['respiratory_rate'])\n",
        "plt.title(\"Box Plot respiratory rate\")\n",
        "plt.show()"
      ],
      "metadata": {
        "colab": {
          "base_uri": "https://localhost:8080/",
          "height": 352
        },
        "id": "nL-gA6id47Sk",
        "outputId": "8dc72030-5c4d-4af6-cee5-72935d1abf2b"
      },
      "execution_count": 29,
      "outputs": [
        {
          "output_type": "stream",
          "name": "stderr",
          "text": [
            "/usr/local/lib/python3.8/dist-packages/seaborn/_decorators.py:36: FutureWarning: Pass the following variable as a keyword arg: x. From version 0.12, the only valid positional argument will be `data`, and passing other arguments without an explicit keyword will result in an error or misinterpretation.\n",
            "  warnings.warn(\n"
          ]
        },
        {
          "output_type": "display_data",
          "data": {
            "text/plain": [
              "<Figure size 432x288 with 1 Axes>"
            ],
            "image/png": "[encoded data removed]"
          },
          "metadata": {
            "needs_background": "light"
          }
        }
      ]
    },
    {
      "cell_type": "code",
      "source": [
        "df1.respiratory_rate.hist()"
      ],
      "metadata": {
        "colab": {
          "base_uri": "https://localhost:8080/",
          "height": 283
        },
        "id": "TEcMMiCEHkM7",
        "outputId": "7701b5d0-587a-4528-df92-c34049678c04"
      },
      "execution_count": 30,
      "outputs": [
        {
          "output_type": "execute_result",
          "data": {
            "text/plain": [
              "<matplotlib.axes._subplots.AxesSubplot at 0x7f498b0f8c10>"
            ]
          },
          "metadata": {},
          "execution_count": 30
        },
        {
          "output_type": "display_data",
          "data": {
            "text/plain": [
              "<Figure size 432x288 with 1 Axes>"
            ],
            "image/png": "[encoded data removed]"
          },
          "metadata": {
            "needs_background": "light"
          }
        }
      ]
    },
    {
      "cell_type": "code",
      "source": [
        "plt.figure(figsize=(14,10))\n",
        "plot = sns.heatmap(abs(df1.corr()), annot=True, cmap='mako',vmin=-1)\n",
        "plt.title('Correlation Heatmap of Horse Colic Database', weight='bold',fontsize=15)\n",
        "plot.set_xticklabels(plot.get_xticklabels(), rotation=0, horizontalalignment='center')\n",
        "plot.set_yticklabels(plot.get_yticklabels(), rotation=0, horizontalalignment='right')\n",
        "plt.show()"
      ],
      "metadata": {
        "colab": {
          "base_uri": "https://localhost:8080/",
          "height": 610
        },
        "id": "rlTShMCfLEVz",
        "outputId": "330708b5-6d1e-402e-ee13-fade29da75f4"
      },
      "execution_count": 31,
      "outputs": [
        {
          "output_type": "display_data",
          "data": {
            "text/plain": [
              "<Figure size 1008x720 with 2 Axes>"
            ],
            "image/png": "[encoded data removed]"
          },
          "metadata": {
            "needs_background": "light"
          }
        }
      ]
    },
    {
      "cell_type": "markdown",
      "source": [
        "Выводы:\n",
        "1) Сформированная таблица имеет 8 столбцов и 300 строк. \n",
        "Количественные типы данных (всего 3 столбца): 1) rectal_temperature (непрерывные значения); 2) pulse (дискретные значения); 3) respiratory_rate (дискретные значения) Качественные типы данных: 1) surgery? (ранжирование значимо); 2) Age (ранжирование значимо); 3) Hospital_Number (ранжирование незначимо); 4) temperature_extremities (ранжирование значимо); 5) peripheral_pulse (ранжирование значимо)\n",
        "\n",
        "2) Параметры 'Age' и 'Hospital number' не имеют пропусков значений, остальные параметры содержат пропуски. Параметр peripheral_pulse содержит больше всего пропусков (69 из 300 значений пропущено).\n",
        "\n",
        "3) Из 289 значений параметр surgery? имеют положительный ответ 180 значений - Yes, it had surgery (да, были прооперированы).\n",
        "\n",
        "4) Из данных 'Age' следует, что подавляющее большинство лошадей старше 6 месяцев (276 - Adult).\n",
        "\n",
        "5) В 16 случаях лошади проходили повторное лечение (параметр Hospital_Number).\n",
        "\n",
        "6) Согласно значениям параметра 'rectal temperature' в 25% случаев лошади имели температуру ниже либо равной нормальному значмению 37.8 градусов C. В половине случаев температура лошадей превышала 38.2 градуса Цельсия, возможно, по причине инфекции.\n",
        "Вид гистограммы распределения данного параметра очень близок к нормальному закону.\n",
        "\n",
        "7) Меньше 25% исследуемых лошадей имели нормальный пульс (параметр pulse)30-40. Больше половины случаев имели значения более 64 (значение медианы), что свидетельствует о наличии заболевания у лошадей. \n",
        "Гистограмма распределения данного параметра смещен влево в сторону низких значений.\n",
        "\n",
        "8)Более 75% лошадей имели проблему с частотой дыхания (параметр respiratory rate превышал значение допустимое значение 8-10).\n",
        "Гистограмма распределения этого параметра сильно смещена влево в сторону низких значений.\n",
        "\n",
        "9) Параметр temperature_extremeties только в 78 случаях имел нормальное значение. В остальных случаях он имел значение cool или cold (признак наличия шока) или warm (30 случаев, признак повышенной температуры temperature_extremities, а значит инфекции).\n",
        "\n",
        "10) В 120 случаях параметр peripheral_pulse имел нормальное или повышенное значение, в остальных зарегистрированных случаях это значение было низким или отсутствовало, что означает проблемы с циркуляцией крови.\n",
        "\n",
        "11) Корреляционная матрица указывает на наличие положительной связи между surgery? и параметрами pulse, respiratory_rate и peripheral_pulse, таким образом вероятность операции возрастает с ростом значений характеристик пульса и частоты дыхания."
      ],
      "metadata": {
        "id": "rlPqH0czVDeJ"
      }
    },
    {
      "cell_type": "markdown",
      "source": [
        "#2) Работа с пропусками"
      ],
      "metadata": {
        "id": "EWcYmOdb-8eB"
      }
    },
    {
      "cell_type": "code",
      "source": [
        "# Для повышения объективности данных оставляем только те строки, которые содержат 6 из 8 заполненных значений.\n",
        "# В результате остается 276 строк из 300\n",
        "df2 = df1.dropna(thresh = 6)\n",
        "df2.info()"
      ],
      "metadata": {
        "colab": {
          "base_uri": "https://localhost:8080/"
        },
        "id": "EJS1dC8j_BZB",
        "outputId": "60910413-61a1-452d-eb13-da03a3d79e8b"
      },
      "execution_count": 32,
      "outputs": [
        {
          "output_type": "stream",
          "name": "stdout",
          "text": [
            "<class 'pandas.core.frame.DataFrame'>\n",
            "Int64Index: 276 entries, 0 to 299\n",
            "Data columns (total 8 columns):\n",
            " #   Column                   Non-Null Count  Dtype  \n",
            "---  ------                   --------------  -----  \n",
            " 0   surgery?                 275 non-null    float64\n",
            " 1   Age                      276 non-null    int64  \n",
            " 2   Hospital_Number          276 non-null    int64  \n",
            " 3   rectal_temperature       238 non-null    float64\n",
            " 4   pulse                    267 non-null    float64\n",
            " 5   respiratory_rate         238 non-null    float64\n",
            " 6   temperature_extremities  236 non-null    float64\n",
            " 7   peripheral_pulse         224 non-null    float64\n",
            "dtypes: float64(6), int64(2)\n",
            "memory usage: 19.4 KB\n"
          ]
        }
      ]
    },
    {
      "cell_type": "code",
      "source": [
        "# Пропущено 36 значений. По мнению экспертов, в данном случае пропуски абсолютно случайны и отсутствие данных имеет естественную причину.\n",
        "# Поскольку это количественная величина, а вид распределения близок к нормальному, \n",
        " # то заменяем пропущенные значения среднеарифметическим значением.  \n",
        "df2['rectal_temperature']=df2['rectal_temperature'].fillna(df2['rectal_temperature'].mean())\n",
        "print(df1['rectal_temperature'].describe())\n",
        "print('-----------------------------')\n",
        "print(df2['rectal_temperature'].describe())"
      ],
      "metadata": {
        "colab": {
          "base_uri": "https://localhost:8080/"
        },
        "id": "9bgDwy-iDpTs",
        "outputId": "d809a455-314d-4fce-def2-9d9e2a1666c1"
      },
      "execution_count": 33,
      "outputs": [
        {
          "output_type": "stream",
          "name": "stdout",
          "text": [
            "count    240.000000\n",
            "mean      38.167917\n",
            "std        0.732289\n",
            "min       35.400000\n",
            "25%       37.800000\n",
            "50%       38.200000\n",
            "75%       38.500000\n",
            "max       40.800000\n",
            "Name: rectal_temperature, dtype: float64\n",
            "-----------------------------\n",
            "count    276.000000\n",
            "mean      38.168908\n",
            "std        0.681949\n",
            "min       35.400000\n",
            "25%       37.800000\n",
            "50%       38.168908\n",
            "75%       38.500000\n",
            "max       40.800000\n",
            "Name: rectal_temperature, dtype: float64\n"
          ]
        },
        {
          "output_type": "stream",
          "name": "stderr",
          "text": [
            "<ipython-input-33-d3c34e95b570>:4: SettingWithCopyWarning: \n",
            "A value is trying to be set on a copy of a slice from a DataFrame.\n",
            "Try using .loc[row_indexer,col_indexer] = value instead\n",
            "\n",
            "See the caveats in the documentation: https://pandas.pydata.org/pandas-docs/stable/user_guide/indexing.html#returning-a-view-versus-a-copy\n",
            "  df2['rectal_temperature']=df2['rectal_temperature'].fillna(df2['rectal_temperature'].mean())\n"
          ]
        }
      ]
    },
    {
      "cell_type": "code",
      "source": [
        "#Осутствует 34 значения в столбце respiratory rate. Предположительно причиной отсутствия значений послужили технические ошибки. \n",
        "#Значения данного количественного параметра имеют большой размах и высокое среднеквадратическое отклонение.\n",
        "# Для того, чтобы сохранить данные, заменяем пропущенные значения медианой. \n",
        "# Поскольку между параметрами 'Age' и 'respiratory_rate' имеется положительная корреляционная связь,\n",
        "#при расчете медианы производим группировку по параметру Age.\n",
        "df2['respiratory_rate'] = df2['respiratory_rate'].fillna(df2.groupby('Age')['respiratory_rate'].transform('median'))\n",
        "print(df1['respiratory_rate'].describe())\n",
        "print('-----------------------------')\n",
        "print(df2['respiratory_rate'].describe())"
      ],
      "metadata": {
        "colab": {
          "base_uri": "https://localhost:8080/"
        },
        "id": "TUoyx_DAFRrc",
        "outputId": "cb9d3aac-933f-4c72-ea88-a0353de51854"
      },
      "execution_count": 34,
      "outputs": [
        {
          "output_type": "stream",
          "name": "stdout",
          "text": [
            "count    242.000000\n",
            "mean      30.417355\n",
            "std       17.642231\n",
            "min        8.000000\n",
            "25%       18.500000\n",
            "50%       24.500000\n",
            "75%       36.000000\n",
            "max       96.000000\n",
            "Name: respiratory_rate, dtype: float64\n",
            "-----------------------------\n",
            "count    276.000000\n",
            "mean      29.829710\n",
            "std       16.683034\n",
            "min        8.000000\n",
            "25%       20.000000\n",
            "50%       24.000000\n",
            "75%       36.000000\n",
            "max       96.000000\n",
            "Name: respiratory_rate, dtype: float64\n"
          ]
        },
        {
          "output_type": "stream",
          "name": "stderr",
          "text": [
            "<ipython-input-34-c59472760daa>:6: SettingWithCopyWarning: \n",
            "A value is trying to be set on a copy of a slice from a DataFrame.\n",
            "Try using .loc[row_indexer,col_indexer] = value instead\n",
            "\n",
            "See the caveats in the documentation: https://pandas.pydata.org/pandas-docs/stable/user_guide/indexing.html#returning-a-view-versus-a-copy\n",
            "  df2['respiratory_rate'] = df2['respiratory_rate'].fillna(df2.groupby('Age')['respiratory_rate'].transform('median'))\n"
          ]
        }
      ]
    },
    {
      "cell_type": "code",
      "source": [
        "#Данный параметр относится к качественному типу данных.\n",
        "# Для того, чтобы сохранить данные, заменяем пропущенное значение модой.\n",
        "df2['surgery?']=df2['surgery?'].fillna(df2['surgery?'].mode()[0])\n",
        "df2['surgery?'].value_counts()\n"
      ],
      "metadata": {
        "colab": {
          "base_uri": "https://localhost:8080/"
        },
        "id": "h7gt18ctIAud",
        "outputId": "a109f8dc-7847-4825-c88d-9efb509848a7"
      },
      "execution_count": 35,
      "outputs": [
        {
          "output_type": "stream",
          "name": "stderr",
          "text": [
            "<ipython-input-35-63c6efd41b2a>:3: SettingWithCopyWarning: \n",
            "A value is trying to be set on a copy of a slice from a DataFrame.\n",
            "Try using .loc[row_indexer,col_indexer] = value instead\n",
            "\n",
            "See the caveats in the documentation: https://pandas.pydata.org/pandas-docs/stable/user_guide/indexing.html#returning-a-view-versus-a-copy\n",
            "  df2['surgery?']=df2['surgery?'].fillna(df2['surgery?'].mode()[0])\n"
          ]
        },
        {
          "output_type": "execute_result",
          "data": {
            "text/plain": [
              "1.0    164\n",
              "2.0    112\n",
              "Name: surgery?, dtype: int64"
            ]
          },
          "metadata": {},
          "execution_count": 35
        }
      ]
    },
    {
      "cell_type": "code",
      "source": [
        "#Данный параметр относится к качественному типу данных.\n",
        "# Для того, чтобы сохранить данные, заменяем пропущенное значение модой.\n",
        "df2['temperature_extremities']=df2['temperature_extremities'].fillna(df2['temperature_extremities'].mode()[0])\n",
        "df2['temperature_extremities'].value_counts()"
      ],
      "metadata": {
        "colab": {
          "base_uri": "https://localhost:8080/"
        },
        "id": "hAVHY31mItG9",
        "outputId": "f2908c81-e9a8-4946-e7df-96c674185e0f"
      },
      "execution_count": 36,
      "outputs": [
        {
          "output_type": "stream",
          "name": "stderr",
          "text": [
            "<ipython-input-36-f536b9974c62>:3: SettingWithCopyWarning: \n",
            "A value is trying to be set on a copy of a slice from a DataFrame.\n",
            "Try using .loc[row_indexer,col_indexer] = value instead\n",
            "\n",
            "See the caveats in the documentation: https://pandas.pydata.org/pandas-docs/stable/user_guide/indexing.html#returning-a-view-versus-a-copy\n",
            "  df2['temperature_extremities']=df2['temperature_extremities'].fillna(df2['temperature_extremities'].mode()[0])\n"
          ]
        },
        {
          "output_type": "execute_result",
          "data": {
            "text/plain": [
              "3.0    143\n",
              "1.0     77\n",
              "2.0     29\n",
              "4.0     27\n",
              "Name: temperature_extremities, dtype: int64"
            ]
          },
          "metadata": {},
          "execution_count": 36
        }
      ]
    },
    {
      "cell_type": "code",
      "source": [
        "#Данный параметр относится к качественному типу данных.\n",
        "# Для того, чтобы сохранить данные, заменяем пропущенное значение модой.\n",
        "df2['peripheral_pulse']=df2['peripheral_pulse'].fillna(df2['peripheral_pulse'].mode()[0])\n",
        "df2['peripheral_pulse'].value_counts()"
      ],
      "metadata": {
        "colab": {
          "base_uri": "https://localhost:8080/"
        },
        "id": "MiiSWLDII-5k",
        "outputId": "3effd3ec-81a6-4fc0-ec7e-97a4cdc06de6"
      },
      "execution_count": 37,
      "outputs": [
        {
          "output_type": "stream",
          "name": "stderr",
          "text": [
            "<ipython-input-37-547174c170a8>:3: SettingWithCopyWarning: \n",
            "A value is trying to be set on a copy of a slice from a DataFrame.\n",
            "Try using .loc[row_indexer,col_indexer] = value instead\n",
            "\n",
            "See the caveats in the documentation: https://pandas.pydata.org/pandas-docs/stable/user_guide/indexing.html#returning-a-view-versus-a-copy\n",
            "  df2['peripheral_pulse']=df2['peripheral_pulse'].fillna(df2['peripheral_pulse'].mode()[0])\n"
          ]
        },
        {
          "output_type": "execute_result",
          "data": {
            "text/plain": [
              "1.0    165\n",
              "3.0     99\n",
              "4.0      7\n",
              "2.0      5\n",
              "Name: peripheral_pulse, dtype: int64"
            ]
          },
          "metadata": {},
          "execution_count": 37
        }
      ]
    },
    {
      "cell_type": "code",
      "source": [
        "df2.head(10)"
      ],
      "metadata": {
        "colab": {
          "base_uri": "https://localhost:8080/",
          "height": 362
        },
        "id": "z7lRdqTEJQra",
        "outputId": "ec7083f0-d902-415a-fb00-7ae211f4ceba"
      },
      "execution_count": 38,
      "outputs": [
        {
          "output_type": "execute_result",
          "data": {
            "text/plain": [
              "    surgery?  Age  Hospital_Number  rectal_temperature  pulse  \\\n",
              "0        2.0    1           530101           38.500000   66.0   \n",
              "1        1.0    1           534817           39.200000   88.0   \n",
              "2        2.0    1           530334           38.300000   40.0   \n",
              "3        1.0    9          5290409           39.100000  164.0   \n",
              "4        2.0    1           530255           37.300000  104.0   \n",
              "6        1.0    1           526802           37.900000   48.0   \n",
              "8        2.0    1           530051           38.168908   80.0   \n",
              "9        2.0    9          5299629           38.300000   90.0   \n",
              "10       1.0    1           528548           38.100000   66.0   \n",
              "11       2.0    1           527927           39.100000   72.0   \n",
              "\n",
              "    respiratory_rate  temperature_extremities  peripheral_pulse  \n",
              "0               28.0                      3.0               3.0  \n",
              "1               20.0                      3.0               1.0  \n",
              "2               24.0                      1.0               1.0  \n",
              "3               84.0                      4.0               1.0  \n",
              "4               35.0                      3.0               1.0  \n",
              "6               16.0                      1.0               1.0  \n",
              "8               36.0                      3.0               4.0  \n",
              "9               49.0                      1.0               1.0  \n",
              "10              12.0                      3.0               3.0  \n",
              "11              52.0                      2.0               1.0  "
            ],
            "text/html": [
              "\n",
              "  <div id=\"df-887ad8ba-1a9f-44aa-ab9f-22cd84ae9c98\">\n",
              "    <div class=\"colab-df-container\">\n",
              "      <div>\n",
              "<style scoped>\n",
              "    .dataframe tbody tr th:only-of-type {\n",
              "        vertical-align: middle;\n",
              "    }\n",
              "\n",
              "    .dataframe tbody tr th {\n",
              "        vertical-align: top;\n",
              "    }\n",
              "\n",
              "    .dataframe thead th {\n",
              "        text-align: right;\n",
              "    }\n",
              "</style>\n",
              "<table border=\"1\" class=\"dataframe\">\n",
              "  <thead>\n",
              "    <tr style=\"text-align: right;\">\n",
              "      <th></th>\n",
              "      <th>surgery?</th>\n",
              "      <th>Age</th>\n",
              "      <th>Hospital_Number</th>\n",
              "      <th>rectal_temperature</th>\n",
              "      <th>pulse</th>\n",
              "      <th>respiratory_rate</th>\n",
              "      <th>temperature_extremities</th>\n",
              "      <th>peripheral_pulse</th>\n",
              "    </tr>\n",
              "  </thead>\n",
              "  <tbody>\n",
              "    <tr>\n",
              "      <th>0</th>\n",
              "      <td>2.0</td>\n",
              "      <td>1</td>\n",
              "      <td>530101</td>\n",
              "      <td>38.500000</td>\n",
              "      <td>66.0</td>\n",
              "      <td>28.0</td>\n",
              "      <td>3.0</td>\n",
              "      <td>3.0</td>\n",
              "    </tr>\n",
              "    <tr>\n",
              "      <th>1</th>\n",
              "      <td>1.0</td>\n",
              "      <td>1</td>\n",
              "      <td>534817</td>\n",
              "      <td>39.200000</td>\n",
              "      <td>88.0</td>\n",
              "      <td>20.0</td>\n",
              "      <td>3.0</td>\n",
              "      <td>1.0</td>\n",
              "    </tr>\n",
              "    <tr>\n",
              "      <th>2</th>\n",
              "      <td>2.0</td>\n",
              "      <td>1</td>\n",
              "      <td>530334</td>\n",
              "      <td>38.300000</td>\n",
              "      <td>40.0</td>\n",
              "      <td>24.0</td>\n",
              "      <td>1.0</td>\n",
              "      <td>1.0</td>\n",
              "    </tr>\n",
              "    <tr>\n",
              "      <th>3</th>\n",
              "      <td>1.0</td>\n",
              "      <td>9</td>\n",
              "      <td>5290409</td>\n",
              "      <td>39.100000</td>\n",
              "      <td>164.0</td>\n",
              "      <td>84.0</td>\n",
              "      <td>4.0</td>\n",
              "      <td>1.0</td>\n",
              "    </tr>\n",
              "    <tr>\n",
              "      <th>4</th>\n",
              "      <td>2.0</td>\n",
              "      <td>1</td>\n",
              "      <td>530255</td>\n",
              "      <td>37.300000</td>\n",
              "      <td>104.0</td>\n",
              "      <td>35.0</td>\n",
              "      <td>3.0</td>\n",
              "      <td>1.0</td>\n",
              "    </tr>\n",
              "    <tr>\n",
              "      <th>6</th>\n",
              "      <td>1.0</td>\n",
              "      <td>1</td>\n",
              "      <td>526802</td>\n",
              "      <td>37.900000</td>\n",
              "      <td>48.0</td>\n",
              "      <td>16.0</td>\n",
              "      <td>1.0</td>\n",
              "      <td>1.0</td>\n",
              "    </tr>\n",
              "    <tr>\n",
              "      <th>8</th>\n",
              "      <td>2.0</td>\n",
              "      <td>1</td>\n",
              "      <td>530051</td>\n",
              "      <td>38.168908</td>\n",
              "      <td>80.0</td>\n",
              "      <td>36.0</td>\n",
              "      <td>3.0</td>\n",
              "      <td>4.0</td>\n",
              "    </tr>\n",
              "    <tr>\n",
              "      <th>9</th>\n",
              "      <td>2.0</td>\n",
              "      <td>9</td>\n",
              "      <td>5299629</td>\n",
              "      <td>38.300000</td>\n",
              "      <td>90.0</td>\n",
              "      <td>49.0</td>\n",
              "      <td>1.0</td>\n",
              "      <td>1.0</td>\n",
              "    </tr>\n",
              "    <tr>\n",
              "      <th>10</th>\n",
              "      <td>1.0</td>\n",
              "      <td>1</td>\n",
              "      <td>528548</td>\n",
              "      <td>38.100000</td>\n",
              "      <td>66.0</td>\n",
              "      <td>12.0</td>\n",
              "      <td>3.0</td>\n",
              "      <td>3.0</td>\n",
              "    </tr>\n",
              "    <tr>\n",
              "      <th>11</th>\n",
              "      <td>2.0</td>\n",
              "      <td>1</td>\n",
              "      <td>527927</td>\n",
              "      <td>39.100000</td>\n",
              "      <td>72.0</td>\n",
              "      <td>52.0</td>\n",
              "      <td>2.0</td>\n",
              "      <td>1.0</td>\n",
              "    </tr>\n",
              "  </tbody>\n",
              "</table>\n",
              "</div>\n",
              "      <button class=\"colab-df-convert\" onclick=\"convertToInteractive('df-887ad8ba-1a9f-44aa-ab9f-22cd84ae9c98')\"\n",
              "              title=\"Convert this dataframe to an interactive table.\"\n",
              "              style=\"display:none;\">\n",
              "        \n",
              "  <svg xmlns=\"http://www.w3.org/2000/svg\" height=\"24px\"viewBox=\"0 0 24 24\"\n",
              "       width=\"24px\">\n",
              "    <path d=\"M0 0h24v24H0V0z\" fill=\"none\"/>\n",
              "    <path d=\"M18.56 5.44l.94 2.06.94-2.06 2.06-.94-2.06-.94-.94-2.06-.94 2.06-2.06.94zm-11 1L8.5 8.5l.94-2.06 2.06-.94-2.06-.94L8.5 2.5l-.94 2.06-2.06.94zm10 10l.94 2.06.94-2.06 2.06-.94-2.06-.94-.94-2.06-.94 2.06-2.06.94z\"/><path d=\"M17.41 7.96l-1.37-1.37c-.4-.4-.92-.59-1.43-.59-.52 0-1.04.2-1.43.59L10.3 9.45l-7.72 7.72c-.78.78-.78 2.05 0 2.83L4 21.41c.39.39.9.59 1.41.59.51 0 1.02-.2 1.41-.59l7.78-7.78 2.81-2.81c.8-.78.8-2.07 0-2.86zM5.41 20L4 18.59l7.72-7.72 1.47 1.35L5.41 20z\"/>\n",
              "  </svg>\n",
              "      </button>\n",
              "      \n",
              "  <style>\n",
              "    .colab-df-container {\n",
              "      display:flex;\n",
              "      flex-wrap:wrap;\n",
              "      gap: 12px;\n",
              "    }\n",
              "\n",
              "    .colab-df-convert {\n",
              "      background-color: #E8F0FE;\n",
              "      border: none;\n",
              "      border-radius: 50%;\n",
              "      cursor: pointer;\n",
              "      display: none;\n",
              "      fill: #1967D2;\n",
              "      height: 32px;\n",
              "      padding: 0 0 0 0;\n",
              "      width: 32px;\n",
              "    }\n",
              "\n",
              "    .colab-df-convert:hover {\n",
              "      background-color: #E2EBFA;\n",
              "      box-shadow: 0px 1px 2px rgba(60, 64, 67, 0.3), 0px 1px 3px 1px rgba(60, 64, 67, 0.15);\n",
              "      fill: #174EA6;\n",
              "    }\n",
              "\n",
              "    [theme=dark] .colab-df-convert {\n",
              "      background-color: #3B4455;\n",
              "      fill: #D2E3FC;\n",
              "    }\n",
              "\n",
              "    [theme=dark] .colab-df-convert:hover {\n",
              "      background-color: #434B5C;\n",
              "      box-shadow: 0px 1px 3px 1px rgba(0, 0, 0, 0.15);\n",
              "      filter: drop-shadow(0px 1px 2px rgba(0, 0, 0, 0.3));\n",
              "      fill: #FFFFFF;\n",
              "    }\n",
              "  </style>\n",
              "\n",
              "      <script>\n",
              "        const buttonEl =\n",
              "          document.querySelector('#df-887ad8ba-1a9f-44aa-ab9f-22cd84ae9c98 button.colab-df-convert');\n",
              "        buttonEl.style.display =\n",
              "          google.colab.kernel.accessAllowed ? 'block' : 'none';\n",
              "\n",
              "        async function convertToInteractive(key) {\n",
              "          const element = document.querySelector('#df-887ad8ba-1a9f-44aa-ab9f-22cd84ae9c98');\n",
              "          const dataTable =\n",
              "            await google.colab.kernel.invokeFunction('convertToInteractive',\n",
              "                                                     [key], {});\n",
              "          if (!dataTable) return;\n",
              "\n",
              "          const docLinkHtml = 'Like what you see? Visit the ' +\n",
              "            '<a target=\"_blank\" href=https://colab.research.google.com/notebooks/data_table.ipynb>data table notebook</a>'\n",
              "            + ' to learn more about interactive tables.';\n",
              "          element.innerHTML = '';\n",
              "          dataTable['output_type'] = 'display_data';\n",
              "          await google.colab.output.renderOutput(dataTable, element);\n",
              "          const docLink = document.createElement('div');\n",
              "          docLink.innerHTML = docLinkHtml;\n",
              "          element.appendChild(docLink);\n",
              "        }\n",
              "      </script>\n",
              "    </div>\n",
              "  </div>\n",
              "  "
            ]
          },
          "metadata": {},
          "execution_count": 38
        }
      ]
    },
    {
      "cell_type": "code",
      "source": [
        "df2.info()"
      ],
      "metadata": {
        "colab": {
          "base_uri": "https://localhost:8080/"
        },
        "id": "X3FeUWl3JXb6",
        "outputId": "3eae1e2b-5b5e-4e34-d0e8-5985e2b09d12"
      },
      "execution_count": 39,
      "outputs": [
        {
          "output_type": "stream",
          "name": "stdout",
          "text": [
            "<class 'pandas.core.frame.DataFrame'>\n",
            "Int64Index: 276 entries, 0 to 299\n",
            "Data columns (total 8 columns):\n",
            " #   Column                   Non-Null Count  Dtype  \n",
            "---  ------                   --------------  -----  \n",
            " 0   surgery?                 276 non-null    float64\n",
            " 1   Age                      276 non-null    int64  \n",
            " 2   Hospital_Number          276 non-null    int64  \n",
            " 3   rectal_temperature       276 non-null    float64\n",
            " 4   pulse                    267 non-null    float64\n",
            " 5   respiratory_rate         276 non-null    float64\n",
            " 6   temperature_extremities  276 non-null    float64\n",
            " 7   peripheral_pulse         276 non-null    float64\n",
            "dtypes: float64(6), int64(2)\n",
            "memory usage: 19.4 KB\n"
          ]
        }
      ]
    },
    {
      "cell_type": "code",
      "source": [
        "df2.describe()"
      ],
      "metadata": {
        "colab": {
          "base_uri": "https://localhost:8080/",
          "height": 364
        },
        "id": "1FtoNi3lJdUp",
        "outputId": "b8d5fa0d-433f-409a-f2fc-71f6ca560542"
      },
      "execution_count": 40,
      "outputs": [
        {
          "output_type": "execute_result",
          "data": {
            "text/plain": [
              "         surgery?         Age  Hospital_Number  rectal_temperature  \\\n",
              "count  276.000000  276.000000     2.760000e+02          276.000000   \n",
              "mean     1.405797    1.637681     1.065319e+06           38.168908   \n",
              "std      0.491938    2.170687     1.504801e+06            0.681949   \n",
              "min      1.000000    1.000000     5.213990e+05           35.400000   \n",
              "25%      1.000000    1.000000     5.289558e+05           37.800000   \n",
              "50%      1.000000    1.000000     5.303570e+05           38.168908   \n",
              "75%      2.000000    1.000000     5.347538e+05           38.500000   \n",
              "max      2.000000    9.000000     5.305629e+06           40.800000   \n",
              "\n",
              "            pulse  respiratory_rate  temperature_extremities  peripheral_pulse  \n",
              "count  267.000000        276.000000               276.000000        276.000000  \n",
              "mean    72.097378         29.829710                 2.434783          1.811594  \n",
              "std     28.918960         16.683034                 1.001501          1.013012  \n",
              "min     30.000000          8.000000                 1.000000          1.000000  \n",
              "25%     48.000000         20.000000                 1.000000          1.000000  \n",
              "50%     64.000000         24.000000                 3.000000          1.000000  \n",
              "75%     88.000000         36.000000                 3.000000          3.000000  \n",
              "max    184.000000         96.000000                 4.000000          4.000000  "
            ],
            "text/html": [
              "\n",
              "  <div id=\"df-8fbdf742-8f86-44ef-b752-d4df4ba63798\">\n",
              "    <div class=\"colab-df-container\">\n",
              "      <div>\n",
              "<style scoped>\n",
              "    .dataframe tbody tr th:only-of-type {\n",
              "        vertical-align: middle;\n",
              "    }\n",
              "\n",
              "    .dataframe tbody tr th {\n",
              "        vertical-align: top;\n",
              "    }\n",
              "\n",
              "    .dataframe thead th {\n",
              "        text-align: right;\n",
              "    }\n",
              "</style>\n",
              "<table border=\"1\" class=\"dataframe\">\n",
              "  <thead>\n",
              "    <tr style=\"text-align: right;\">\n",
              "      <th></th>\n",
              "      <th>surgery?</th>\n",
              "      <th>Age</th>\n",
              "      <th>Hospital_Number</th>\n",
              "      <th>rectal_temperature</th>\n",
              "      <th>pulse</th>\n",
              "      <th>respiratory_rate</th>\n",
              "      <th>temperature_extremities</th>\n",
              "      <th>peripheral_pulse</th>\n",
              "    </tr>\n",
              "  </thead>\n",
              "  <tbody>\n",
              "    <tr>\n",
              "      <th>count</th>\n",
              "      <td>276.000000</td>\n",
              "      <td>276.000000</td>\n",
              "      <td>2.760000e+02</td>\n",
              "      <td>276.000000</td>\n",
              "      <td>267.000000</td>\n",
              "      <td>276.000000</td>\n",
              "      <td>276.000000</td>\n",
              "      <td>276.000000</td>\n",
              "    </tr>\n",
              "    <tr>\n",
              "      <th>mean</th>\n",
              "      <td>1.405797</td>\n",
              "      <td>1.637681</td>\n",
              "      <td>1.065319e+06</td>\n",
              "      <td>38.168908</td>\n",
              "      <td>72.097378</td>\n",
              "      <td>29.829710</td>\n",
              "      <td>2.434783</td>\n",
              "      <td>1.811594</td>\n",
              "    </tr>\n",
              "    <tr>\n",
              "      <th>std</th>\n",
              "      <td>0.491938</td>\n",
              "      <td>2.170687</td>\n",
              "      <td>1.504801e+06</td>\n",
              "      <td>0.681949</td>\n",
              "      <td>28.918960</td>\n",
              "      <td>16.683034</td>\n",
              "      <td>1.001501</td>\n",
              "      <td>1.013012</td>\n",
              "    </tr>\n",
              "    <tr>\n",
              "      <th>min</th>\n",
              "      <td>1.000000</td>\n",
              "      <td>1.000000</td>\n",
              "      <td>5.213990e+05</td>\n",
              "      <td>35.400000</td>\n",
              "      <td>30.000000</td>\n",
              "      <td>8.000000</td>\n",
              "      <td>1.000000</td>\n",
              "      <td>1.000000</td>\n",
              "    </tr>\n",
              "    <tr>\n",
              "      <th>25%</th>\n",
              "      <td>1.000000</td>\n",
              "      <td>1.000000</td>\n",
              "      <td>5.289558e+05</td>\n",
              "      <td>37.800000</td>\n",
              "      <td>48.000000</td>\n",
              "      <td>20.000000</td>\n",
              "      <td>1.000000</td>\n",
              "      <td>1.000000</td>\n",
              "    </tr>\n",
              "    <tr>\n",
              "      <th>50%</th>\n",
              "      <td>1.000000</td>\n",
              "      <td>1.000000</td>\n",
              "      <td>5.303570e+05</td>\n",
              "      <td>38.168908</td>\n",
              "      <td>64.000000</td>\n",
              "      <td>24.000000</td>\n",
              "      <td>3.000000</td>\n",
              "      <td>1.000000</td>\n",
              "    </tr>\n",
              "    <tr>\n",
              "      <th>75%</th>\n",
              "      <td>2.000000</td>\n",
              "      <td>1.000000</td>\n",
              "      <td>5.347538e+05</td>\n",
              "      <td>38.500000</td>\n",
              "      <td>88.000000</td>\n",
              "      <td>36.000000</td>\n",
              "      <td>3.000000</td>\n",
              "      <td>3.000000</td>\n",
              "    </tr>\n",
              "    <tr>\n",
              "      <th>max</th>\n",
              "      <td>2.000000</td>\n",
              "      <td>9.000000</td>\n",
              "      <td>5.305629e+06</td>\n",
              "      <td>40.800000</td>\n",
              "      <td>184.000000</td>\n",
              "      <td>96.000000</td>\n",
              "      <td>4.000000</td>\n",
              "      <td>4.000000</td>\n",
              "    </tr>\n",
              "  </tbody>\n",
              "</table>\n",
              "</div>\n",
              "      <button class=\"colab-df-convert\" onclick=\"convertToInteractive('df-8fbdf742-8f86-44ef-b752-d4df4ba63798')\"\n",
              "              title=\"Convert this dataframe to an interactive table.\"\n",
              "              style=\"display:none;\">\n",
              "        \n",
              "  <svg xmlns=\"http://www.w3.org/2000/svg\" height=\"24px\"viewBox=\"0 0 24 24\"\n",
              "       width=\"24px\">\n",
              "    <path d=\"M0 0h24v24H0V0z\" fill=\"none\"/>\n",
              "    <path d=\"M18.56 5.44l.94 2.06.94-2.06 2.06-.94-2.06-.94-.94-2.06-.94 2.06-2.06.94zm-11 1L8.5 8.5l.94-2.06 2.06-.94-2.06-.94L8.5 2.5l-.94 2.06-2.06.94zm10 10l.94 2.06.94-2.06 2.06-.94-2.06-.94-.94-2.06-.94 2.06-2.06.94z\"/><path d=\"M17.41 7.96l-1.37-1.37c-.4-.4-.92-.59-1.43-.59-.52 0-1.04.2-1.43.59L10.3 9.45l-7.72 7.72c-.78.78-.78 2.05 0 2.83L4 21.41c.39.39.9.59 1.41.59.51 0 1.02-.2 1.41-.59l7.78-7.78 2.81-2.81c.8-.78.8-2.07 0-2.86zM5.41 20L4 18.59l7.72-7.72 1.47 1.35L5.41 20z\"/>\n",
              "  </svg>\n",
              "      </button>\n",
              "      \n",
              "  <style>\n",
              "    .colab-df-container {\n",
              "      display:flex;\n",
              "      flex-wrap:wrap;\n",
              "      gap: 12px;\n",
              "    }\n",
              "\n",
              "    .colab-df-convert {\n",
              "      background-color: #E8F0FE;\n",
              "      border: none;\n",
              "      border-radius: 50%;\n",
              "      cursor: pointer;\n",
              "      display: none;\n",
              "      fill: #1967D2;\n",
              "      height: 32px;\n",
              "      padding: 0 0 0 0;\n",
              "      width: 32px;\n",
              "    }\n",
              "\n",
              "    .colab-df-convert:hover {\n",
              "      background-color: #E2EBFA;\n",
              "      box-shadow: 0px 1px 2px rgba(60, 64, 67, 0.3), 0px 1px 3px 1px rgba(60, 64, 67, 0.15);\n",
              "      fill: #174EA6;\n",
              "    }\n",
              "\n",
              "    [theme=dark] .colab-df-convert {\n",
              "      background-color: #3B4455;\n",
              "      fill: #D2E3FC;\n",
              "    }\n",
              "\n",
              "    [theme=dark] .colab-df-convert:hover {\n",
              "      background-color: #434B5C;\n",
              "      box-shadow: 0px 1px 3px 1px rgba(0, 0, 0, 0.15);\n",
              "      filter: drop-shadow(0px 1px 2px rgba(0, 0, 0, 0.3));\n",
              "      fill: #FFFFFF;\n",
              "    }\n",
              "  </style>\n",
              "\n",
              "      <script>\n",
              "        const buttonEl =\n",
              "          document.querySelector('#df-8fbdf742-8f86-44ef-b752-d4df4ba63798 button.colab-df-convert');\n",
              "        buttonEl.style.display =\n",
              "          google.colab.kernel.accessAllowed ? 'block' : 'none';\n",
              "\n",
              "        async function convertToInteractive(key) {\n",
              "          const element = document.querySelector('#df-8fbdf742-8f86-44ef-b752-d4df4ba63798');\n",
              "          const dataTable =\n",
              "            await google.colab.kernel.invokeFunction('convertToInteractive',\n",
              "                                                     [key], {});\n",
              "          if (!dataTable) return;\n",
              "\n",
              "          const docLinkHtml = 'Like what you see? Visit the ' +\n",
              "            '<a target=\"_blank\" href=https://colab.research.google.com/notebooks/data_table.ipynb>data table notebook</a>'\n",
              "            + ' to learn more about interactive tables.';\n",
              "          element.innerHTML = '';\n",
              "          dataTable['output_type'] = 'display_data';\n",
              "          await google.colab.output.renderOutput(dataTable, element);\n",
              "          const docLink = document.createElement('div');\n",
              "          docLink.innerHTML = docLinkHtml;\n",
              "          element.appendChild(docLink);\n",
              "        }\n",
              "      </script>\n",
              "    </div>\n",
              "  </div>\n",
              "  "
            ]
          },
          "metadata": {},
          "execution_count": 40
        }
      ]
    },
    {
      "cell_type": "markdown",
      "source": [
        "# 3) Работа с выбросами"
      ],
      "metadata": {
        "id": "nea633XB_JT0"
      }
    },
    {
      "cell_type": "code",
      "source": [
        "# Предположительно, основной причиной появления выбросов параметра pulse, является ошибки ввода данных.\n",
        "# Для того, чтобы исключить влияние ошибок на результаты исследования, удаляем строки, содержащие эти данные.\n",
        "pulse_minimum = df2['pulse'].quantile(0.25) - 1.5*pulse_IQR\n",
        "print(pulse_minimum)\n",
        "pulse_maximum = df2['pulse'].quantile(0.75) + 1.5*pulse_IQR\n",
        "print(pulse_maximum)\n",
        "remove_outliers = df2[df2['pulse'].between(pulse_minimum, pulse_maximum, inclusive = True)]\n",
        "remove_outliers.head(10)"
      ],
      "metadata": {
        "colab": {
          "base_uri": "https://localhost:8080/",
          "height": 454
        },
        "id": "v5XC7BKfEPkp",
        "outputId": "5d43b871-3fff-49bc-c54c-e8e391496a25"
      },
      "execution_count": 41,
      "outputs": [
        {
          "output_type": "stream",
          "name": "stdout",
          "text": [
            "-12.0\n",
            "148.0\n"
          ]
        },
        {
          "output_type": "stream",
          "name": "stderr",
          "text": [
            "<ipython-input-41-24f0726227b4>:7: FutureWarning: Boolean inputs to the `inclusive` argument are deprecated infavour of `both` or `neither`.\n",
            "  remove_outliers = df2[df2['pulse'].between(pulse_minimum, pulse_maximum, inclusive = True)]\n"
          ]
        },
        {
          "output_type": "execute_result",
          "data": {
            "text/plain": [
              "    surgery?  Age  Hospital_Number  rectal_temperature  pulse  \\\n",
              "0        2.0    1           530101           38.500000   66.0   \n",
              "1        1.0    1           534817           39.200000   88.0   \n",
              "2        2.0    1           530334           38.300000   40.0   \n",
              "4        2.0    1           530255           37.300000  104.0   \n",
              "6        1.0    1           526802           37.900000   48.0   \n",
              "8        2.0    1           530051           38.168908   80.0   \n",
              "9        2.0    9          5299629           38.300000   90.0   \n",
              "10       1.0    1           528548           38.100000   66.0   \n",
              "11       2.0    1           527927           39.100000   72.0   \n",
              "12       1.0    1           528031           37.200000   42.0   \n",
              "\n",
              "    respiratory_rate  temperature_extremities  peripheral_pulse  \n",
              "0               28.0                      3.0               3.0  \n",
              "1               20.0                      3.0               1.0  \n",
              "2               24.0                      1.0               1.0  \n",
              "4               35.0                      3.0               1.0  \n",
              "6               16.0                      1.0               1.0  \n",
              "8               36.0                      3.0               4.0  \n",
              "9               49.0                      1.0               1.0  \n",
              "10              12.0                      3.0               3.0  \n",
              "11              52.0                      2.0               1.0  \n",
              "12              12.0                      2.0               1.0  "
            ],
            "text/html": [
              "\n",
              "  <div id=\"df-7b44f121-0ec3-43ac-b8da-5cbc20c65eb6\">\n",
              "    <div class=\"colab-df-container\">\n",
              "      <div>\n",
              "<style scoped>\n",
              "    .dataframe tbody tr th:only-of-type {\n",
              "        vertical-align: middle;\n",
              "    }\n",
              "\n",
              "    .dataframe tbody tr th {\n",
              "        vertical-align: top;\n",
              "    }\n",
              "\n",
              "    .dataframe thead th {\n",
              "        text-align: right;\n",
              "    }\n",
              "</style>\n",
              "<table border=\"1\" class=\"dataframe\">\n",
              "  <thead>\n",
              "    <tr style=\"text-align: right;\">\n",
              "      <th></th>\n",
              "      <th>surgery?</th>\n",
              "      <th>Age</th>\n",
              "      <th>Hospital_Number</th>\n",
              "      <th>rectal_temperature</th>\n",
              "      <th>pulse</th>\n",
              "      <th>respiratory_rate</th>\n",
              "      <th>temperature_extremities</th>\n",
              "      <th>peripheral_pulse</th>\n",
              "    </tr>\n",
              "  </thead>\n",
              "  <tbody>\n",
              "    <tr>\n",
              "      <th>0</th>\n",
              "      <td>2.0</td>\n",
              "      <td>1</td>\n",
              "      <td>530101</td>\n",
              "      <td>38.500000</td>\n",
              "      <td>66.0</td>\n",
              "      <td>28.0</td>\n",
              "      <td>3.0</td>\n",
              "      <td>3.0</td>\n",
              "    </tr>\n",
              "    <tr>\n",
              "      <th>1</th>\n",
              "      <td>1.0</td>\n",
              "      <td>1</td>\n",
              "      <td>534817</td>\n",
              "      <td>39.200000</td>\n",
              "      <td>88.0</td>\n",
              "      <td>20.0</td>\n",
              "      <td>3.0</td>\n",
              "      <td>1.0</td>\n",
              "    </tr>\n",
              "    <tr>\n",
              "      <th>2</th>\n",
              "      <td>2.0</td>\n",
              "      <td>1</td>\n",
              "      <td>530334</td>\n",
              "      <td>38.300000</td>\n",
              "      <td>40.0</td>\n",
              "      <td>24.0</td>\n",
              "      <td>1.0</td>\n",
              "      <td>1.0</td>\n",
              "    </tr>\n",
              "    <tr>\n",
              "      <th>4</th>\n",
              "      <td>2.0</td>\n",
              "      <td>1</td>\n",
              "      <td>530255</td>\n",
              "      <td>37.300000</td>\n",
              "      <td>104.0</td>\n",
              "      <td>35.0</td>\n",
              "      <td>3.0</td>\n",
              "      <td>1.0</td>\n",
              "    </tr>\n",
              "    <tr>\n",
              "      <th>6</th>\n",
              "      <td>1.0</td>\n",
              "      <td>1</td>\n",
              "      <td>526802</td>\n",
              "      <td>37.900000</td>\n",
              "      <td>48.0</td>\n",
              "      <td>16.0</td>\n",
              "      <td>1.0</td>\n",
              "      <td>1.0</td>\n",
              "    </tr>\n",
              "    <tr>\n",
              "      <th>8</th>\n",
              "      <td>2.0</td>\n",
              "      <td>1</td>\n",
              "      <td>530051</td>\n",
              "      <td>38.168908</td>\n",
              "      <td>80.0</td>\n",
              "      <td>36.0</td>\n",
              "      <td>3.0</td>\n",
              "      <td>4.0</td>\n",
              "    </tr>\n",
              "    <tr>\n",
              "      <th>9</th>\n",
              "      <td>2.0</td>\n",
              "      <td>9</td>\n",
              "      <td>5299629</td>\n",
              "      <td>38.300000</td>\n",
              "      <td>90.0</td>\n",
              "      <td>49.0</td>\n",
              "      <td>1.0</td>\n",
              "      <td>1.0</td>\n",
              "    </tr>\n",
              "    <tr>\n",
              "      <th>10</th>\n",
              "      <td>1.0</td>\n",
              "      <td>1</td>\n",
              "      <td>528548</td>\n",
              "      <td>38.100000</td>\n",
              "      <td>66.0</td>\n",
              "      <td>12.0</td>\n",
              "      <td>3.0</td>\n",
              "      <td>3.0</td>\n",
              "    </tr>\n",
              "    <tr>\n",
              "      <th>11</th>\n",
              "      <td>2.0</td>\n",
              "      <td>1</td>\n",
              "      <td>527927</td>\n",
              "      <td>39.100000</td>\n",
              "      <td>72.0</td>\n",
              "      <td>52.0</td>\n",
              "      <td>2.0</td>\n",
              "      <td>1.0</td>\n",
              "    </tr>\n",
              "    <tr>\n",
              "      <th>12</th>\n",
              "      <td>1.0</td>\n",
              "      <td>1</td>\n",
              "      <td>528031</td>\n",
              "      <td>37.200000</td>\n",
              "      <td>42.0</td>\n",
              "      <td>12.0</td>\n",
              "      <td>2.0</td>\n",
              "      <td>1.0</td>\n",
              "    </tr>\n",
              "  </tbody>\n",
              "</table>\n",
              "</div>\n",
              "      <button class=\"colab-df-convert\" onclick=\"convertToInteractive('df-7b44f121-0ec3-43ac-b8da-5cbc20c65eb6')\"\n",
              "              title=\"Convert this dataframe to an interactive table.\"\n",
              "              style=\"display:none;\">\n",
              "        \n",
              "  <svg xmlns=\"http://www.w3.org/2000/svg\" height=\"24px\"viewBox=\"0 0 24 24\"\n",
              "       width=\"24px\">\n",
              "    <path d=\"M0 0h24v24H0V0z\" fill=\"none\"/>\n",
              "    <path d=\"M18.56 5.44l.94 2.06.94-2.06 2.06-.94-2.06-.94-.94-2.06-.94 2.06-2.06.94zm-11 1L8.5 8.5l.94-2.06 2.06-.94-2.06-.94L8.5 2.5l-.94 2.06-2.06.94zm10 10l.94 2.06.94-2.06 2.06-.94-2.06-.94-.94-2.06-.94 2.06-2.06.94z\"/><path d=\"M17.41 7.96l-1.37-1.37c-.4-.4-.92-.59-1.43-.59-.52 0-1.04.2-1.43.59L10.3 9.45l-7.72 7.72c-.78.78-.78 2.05 0 2.83L4 21.41c.39.39.9.59 1.41.59.51 0 1.02-.2 1.41-.59l7.78-7.78 2.81-2.81c.8-.78.8-2.07 0-2.86zM5.41 20L4 18.59l7.72-7.72 1.47 1.35L5.41 20z\"/>\n",
              "  </svg>\n",
              "      </button>\n",
              "      \n",
              "  <style>\n",
              "    .colab-df-container {\n",
              "      display:flex;\n",
              "      flex-wrap:wrap;\n",
              "      gap: 12px;\n",
              "    }\n",
              "\n",
              "    .colab-df-convert {\n",
              "      background-color: #E8F0FE;\n",
              "      border: none;\n",
              "      border-radius: 50%;\n",
              "      cursor: pointer;\n",
              "      display: none;\n",
              "      fill: #1967D2;\n",
              "      height: 32px;\n",
              "      padding: 0 0 0 0;\n",
              "      width: 32px;\n",
              "    }\n",
              "\n",
              "    .colab-df-convert:hover {\n",
              "      background-color: #E2EBFA;\n",
              "      box-shadow: 0px 1px 2px rgba(60, 64, 67, 0.3), 0px 1px 3px 1px rgba(60, 64, 67, 0.15);\n",
              "      fill: #174EA6;\n",
              "    }\n",
              "\n",
              "    [theme=dark] .colab-df-convert {\n",
              "      background-color: #3B4455;\n",
              "      fill: #D2E3FC;\n",
              "    }\n",
              "\n",
              "    [theme=dark] .colab-df-convert:hover {\n",
              "      background-color: #434B5C;\n",
              "      box-shadow: 0px 1px 3px 1px rgba(0, 0, 0, 0.15);\n",
              "      filter: drop-shadow(0px 1px 2px rgba(0, 0, 0, 0.3));\n",
              "      fill: #FFFFFF;\n",
              "    }\n",
              "  </style>\n",
              "\n",
              "      <script>\n",
              "        const buttonEl =\n",
              "          document.querySelector('#df-7b44f121-0ec3-43ac-b8da-5cbc20c65eb6 button.colab-df-convert');\n",
              "        buttonEl.style.display =\n",
              "          google.colab.kernel.accessAllowed ? 'block' : 'none';\n",
              "\n",
              "        async function convertToInteractive(key) {\n",
              "          const element = document.querySelector('#df-7b44f121-0ec3-43ac-b8da-5cbc20c65eb6');\n",
              "          const dataTable =\n",
              "            await google.colab.kernel.invokeFunction('convertToInteractive',\n",
              "                                                     [key], {});\n",
              "          if (!dataTable) return;\n",
              "\n",
              "          const docLinkHtml = 'Like what you see? Visit the ' +\n",
              "            '<a target=\"_blank\" href=https://colab.research.google.com/notebooks/data_table.ipynb>data table notebook</a>'\n",
              "            + ' to learn more about interactive tables.';\n",
              "          element.innerHTML = '';\n",
              "          dataTable['output_type'] = 'display_data';\n",
              "          await google.colab.output.renderOutput(dataTable, element);\n",
              "          const docLink = document.createElement('div');\n",
              "          docLink.innerHTML = docLinkHtml;\n",
              "          element.appendChild(docLink);\n",
              "        }\n",
              "      </script>\n",
              "    </div>\n",
              "  </div>\n",
              "  "
            ]
          },
          "metadata": {},
          "execution_count": 41
        }
      ]
    },
    {
      "cell_type": "code",
      "source": [
        "# Предположительно, основной причиной появления выбросов параметра pulse, является технический сбой измерительного оборудования.\n",
        "# Для того, чтобы исключить влияние ошибок на результаты исследования, удаляем строки, содержащие данные, полученные с неисправным оборудованием.\n",
        "rectal_temp_minimum = df2['rectal_temperature'].quantile(0.25) - 1.5*rectal_temperature_IQR\n",
        "print(rectal_temp_minimum)\n",
        "rectal_temp_maximum = df2['rectal_temperature'].quantile(0.75) + 1.5*rectal_temperature_IQR\n",
        "print(rectal_temp_maximum)\n",
        "remove_outliers = df2[df2['rectal_temperature'].between(rectal_temp_minimum, rectal_temp_maximum, inclusive = True)]\n",
        "remove_outliers.head(10)\n",
        "\n"
      ],
      "metadata": {
        "colab": {
          "base_uri": "https://localhost:8080/",
          "height": 454
        },
        "id": "qkvWKf4b_Fj_",
        "outputId": "74adeace-ecd7-4981-c8e0-09e76630e835"
      },
      "execution_count": 42,
      "outputs": [
        {
          "output_type": "stream",
          "name": "stdout",
          "text": [
            "36.74999999999999\n",
            "39.550000000000004\n"
          ]
        },
        {
          "output_type": "stream",
          "name": "stderr",
          "text": [
            "<ipython-input-42-4d9388c6cc62>:7: FutureWarning: Boolean inputs to the `inclusive` argument are deprecated infavour of `both` or `neither`.\n",
            "  remove_outliers = df2[df2['rectal_temperature'].between(rectal_temp_minimum, rectal_temp_maximum, inclusive = True)]\n"
          ]
        },
        {
          "output_type": "execute_result",
          "data": {
            "text/plain": [
              "    surgery?  Age  Hospital_Number  rectal_temperature  pulse  \\\n",
              "0        2.0    1           530101           38.500000   66.0   \n",
              "1        1.0    1           534817           39.200000   88.0   \n",
              "2        2.0    1           530334           38.300000   40.0   \n",
              "3        1.0    9          5290409           39.100000  164.0   \n",
              "4        2.0    1           530255           37.300000  104.0   \n",
              "6        1.0    1           526802           37.900000   48.0   \n",
              "8        2.0    1           530051           38.168908   80.0   \n",
              "9        2.0    9          5299629           38.300000   90.0   \n",
              "10       1.0    1           528548           38.100000   66.0   \n",
              "11       2.0    1           527927           39.100000   72.0   \n",
              "\n",
              "    respiratory_rate  temperature_extremities  peripheral_pulse  \n",
              "0               28.0                      3.0               3.0  \n",
              "1               20.0                      3.0               1.0  \n",
              "2               24.0                      1.0               1.0  \n",
              "3               84.0                      4.0               1.0  \n",
              "4               35.0                      3.0               1.0  \n",
              "6               16.0                      1.0               1.0  \n",
              "8               36.0                      3.0               4.0  \n",
              "9               49.0                      1.0               1.0  \n",
              "10              12.0                      3.0               3.0  \n",
              "11              52.0                      2.0               1.0  "
            ],
            "text/html": [
              "\n",
              "  <div id=\"df-5a7fc1d9-bf69-4aff-bcf0-8003274036a9\">\n",
              "    <div class=\"colab-df-container\">\n",
              "      <div>\n",
              "<style scoped>\n",
              "    .dataframe tbody tr th:only-of-type {\n",
              "        vertical-align: middle;\n",
              "    }\n",
              "\n",
              "    .dataframe tbody tr th {\n",
              "        vertical-align: top;\n",
              "    }\n",
              "\n",
              "    .dataframe thead th {\n",
              "        text-align: right;\n",
              "    }\n",
              "</style>\n",
              "<table border=\"1\" class=\"dataframe\">\n",
              "  <thead>\n",
              "    <tr style=\"text-align: right;\">\n",
              "      <th></th>\n",
              "      <th>surgery?</th>\n",
              "      <th>Age</th>\n",
              "      <th>Hospital_Number</th>\n",
              "      <th>rectal_temperature</th>\n",
              "      <th>pulse</th>\n",
              "      <th>respiratory_rate</th>\n",
              "      <th>temperature_extremities</th>\n",
              "      <th>peripheral_pulse</th>\n",
              "    </tr>\n",
              "  </thead>\n",
              "  <tbody>\n",
              "    <tr>\n",
              "      <th>0</th>\n",
              "      <td>2.0</td>\n",
              "      <td>1</td>\n",
              "      <td>530101</td>\n",
              "      <td>38.500000</td>\n",
              "      <td>66.0</td>\n",
              "      <td>28.0</td>\n",
              "      <td>3.0</td>\n",
              "      <td>3.0</td>\n",
              "    </tr>\n",
              "    <tr>\n",
              "      <th>1</th>\n",
              "      <td>1.0</td>\n",
              "      <td>1</td>\n",
              "      <td>534817</td>\n",
              "      <td>39.200000</td>\n",
              "      <td>88.0</td>\n",
              "      <td>20.0</td>\n",
              "      <td>3.0</td>\n",
              "      <td>1.0</td>\n",
              "    </tr>\n",
              "    <tr>\n",
              "      <th>2</th>\n",
              "      <td>2.0</td>\n",
              "      <td>1</td>\n",
              "      <td>530334</td>\n",
              "      <td>38.300000</td>\n",
              "      <td>40.0</td>\n",
              "      <td>24.0</td>\n",
              "      <td>1.0</td>\n",
              "      <td>1.0</td>\n",
              "    </tr>\n",
              "    <tr>\n",
              "      <th>3</th>\n",
              "      <td>1.0</td>\n",
              "      <td>9</td>\n",
              "      <td>5290409</td>\n",
              "      <td>39.100000</td>\n",
              "      <td>164.0</td>\n",
              "      <td>84.0</td>\n",
              "      <td>4.0</td>\n",
              "      <td>1.0</td>\n",
              "    </tr>\n",
              "    <tr>\n",
              "      <th>4</th>\n",
              "      <td>2.0</td>\n",
              "      <td>1</td>\n",
              "      <td>530255</td>\n",
              "      <td>37.300000</td>\n",
              "      <td>104.0</td>\n",
              "      <td>35.0</td>\n",
              "      <td>3.0</td>\n",
              "      <td>1.0</td>\n",
              "    </tr>\n",
              "    <tr>\n",
              "      <th>6</th>\n",
              "      <td>1.0</td>\n",
              "      <td>1</td>\n",
              "      <td>526802</td>\n",
              "      <td>37.900000</td>\n",
              "      <td>48.0</td>\n",
              "      <td>16.0</td>\n",
              "      <td>1.0</td>\n",
              "      <td>1.0</td>\n",
              "    </tr>\n",
              "    <tr>\n",
              "      <th>8</th>\n",
              "      <td>2.0</td>\n",
              "      <td>1</td>\n",
              "      <td>530051</td>\n",
              "      <td>38.168908</td>\n",
              "      <td>80.0</td>\n",
              "      <td>36.0</td>\n",
              "      <td>3.0</td>\n",
              "      <td>4.0</td>\n",
              "    </tr>\n",
              "    <tr>\n",
              "      <th>9</th>\n",
              "      <td>2.0</td>\n",
              "      <td>9</td>\n",
              "      <td>5299629</td>\n",
              "      <td>38.300000</td>\n",
              "      <td>90.0</td>\n",
              "      <td>49.0</td>\n",
              "      <td>1.0</td>\n",
              "      <td>1.0</td>\n",
              "    </tr>\n",
              "    <tr>\n",
              "      <th>10</th>\n",
              "      <td>1.0</td>\n",
              "      <td>1</td>\n",
              "      <td>528548</td>\n",
              "      <td>38.100000</td>\n",
              "      <td>66.0</td>\n",
              "      <td>12.0</td>\n",
              "      <td>3.0</td>\n",
              "      <td>3.0</td>\n",
              "    </tr>\n",
              "    <tr>\n",
              "      <th>11</th>\n",
              "      <td>2.0</td>\n",
              "      <td>1</td>\n",
              "      <td>527927</td>\n",
              "      <td>39.100000</td>\n",
              "      <td>72.0</td>\n",
              "      <td>52.0</td>\n",
              "      <td>2.0</td>\n",
              "      <td>1.0</td>\n",
              "    </tr>\n",
              "  </tbody>\n",
              "</table>\n",
              "</div>\n",
              "      <button class=\"colab-df-convert\" onclick=\"convertToInteractive('df-5a7fc1d9-bf69-4aff-bcf0-8003274036a9')\"\n",
              "              title=\"Convert this dataframe to an interactive table.\"\n",
              "              style=\"display:none;\">\n",
              "        \n",
              "  <svg xmlns=\"http://www.w3.org/2000/svg\" height=\"24px\"viewBox=\"0 0 24 24\"\n",
              "       width=\"24px\">\n",
              "    <path d=\"M0 0h24v24H0V0z\" fill=\"none\"/>\n",
              "    <path d=\"M18.56 5.44l.94 2.06.94-2.06 2.06-.94-2.06-.94-.94-2.06-.94 2.06-2.06.94zm-11 1L8.5 8.5l.94-2.06 2.06-.94-2.06-.94L8.5 2.5l-.94 2.06-2.06.94zm10 10l.94 2.06.94-2.06 2.06-.94-2.06-.94-.94-2.06-.94 2.06-2.06.94z\"/><path d=\"M17.41 7.96l-1.37-1.37c-.4-.4-.92-.59-1.43-.59-.52 0-1.04.2-1.43.59L10.3 9.45l-7.72 7.72c-.78.78-.78 2.05 0 2.83L4 21.41c.39.39.9.59 1.41.59.51 0 1.02-.2 1.41-.59l7.78-7.78 2.81-2.81c.8-.78.8-2.07 0-2.86zM5.41 20L4 18.59l7.72-7.72 1.47 1.35L5.41 20z\"/>\n",
              "  </svg>\n",
              "      </button>\n",
              "      \n",
              "  <style>\n",
              "    .colab-df-container {\n",
              "      display:flex;\n",
              "      flex-wrap:wrap;\n",
              "      gap: 12px;\n",
              "    }\n",
              "\n",
              "    .colab-df-convert {\n",
              "      background-color: #E8F0FE;\n",
              "      border: none;\n",
              "      border-radius: 50%;\n",
              "      cursor: pointer;\n",
              "      display: none;\n",
              "      fill: #1967D2;\n",
              "      height: 32px;\n",
              "      padding: 0 0 0 0;\n",
              "      width: 32px;\n",
              "    }\n",
              "\n",
              "    .colab-df-convert:hover {\n",
              "      background-color: #E2EBFA;\n",
              "      box-shadow: 0px 1px 2px rgba(60, 64, 67, 0.3), 0px 1px 3px 1px rgba(60, 64, 67, 0.15);\n",
              "      fill: #174EA6;\n",
              "    }\n",
              "\n",
              "    [theme=dark] .colab-df-convert {\n",
              "      background-color: #3B4455;\n",
              "      fill: #D2E3FC;\n",
              "    }\n",
              "\n",
              "    [theme=dark] .colab-df-convert:hover {\n",
              "      background-color: #434B5C;\n",
              "      box-shadow: 0px 1px 3px 1px rgba(0, 0, 0, 0.15);\n",
              "      filter: drop-shadow(0px 1px 2px rgba(0, 0, 0, 0.3));\n",
              "      fill: #FFFFFF;\n",
              "    }\n",
              "  </style>\n",
              "\n",
              "      <script>\n",
              "        const buttonEl =\n",
              "          document.querySelector('#df-5a7fc1d9-bf69-4aff-bcf0-8003274036a9 button.colab-df-convert');\n",
              "        buttonEl.style.display =\n",
              "          google.colab.kernel.accessAllowed ? 'block' : 'none';\n",
              "\n",
              "        async function convertToInteractive(key) {\n",
              "          const element = document.querySelector('#df-5a7fc1d9-bf69-4aff-bcf0-8003274036a9');\n",
              "          const dataTable =\n",
              "            await google.colab.kernel.invokeFunction('convertToInteractive',\n",
              "                                                     [key], {});\n",
              "          if (!dataTable) return;\n",
              "\n",
              "          const docLinkHtml = 'Like what you see? Visit the ' +\n",
              "            '<a target=\"_blank\" href=https://colab.research.google.com/notebooks/data_table.ipynb>data table notebook</a>'\n",
              "            + ' to learn more about interactive tables.';\n",
              "          element.innerHTML = '';\n",
              "          dataTable['output_type'] = 'display_data';\n",
              "          await google.colab.output.renderOutput(dataTable, element);\n",
              "          const docLink = document.createElement('div');\n",
              "          docLink.innerHTML = docLinkHtml;\n",
              "          element.appendChild(docLink);\n",
              "        }\n",
              "      </script>\n",
              "    </div>\n",
              "  </div>\n",
              "  "
            ]
          },
          "metadata": {},
          "execution_count": 42
        }
      ]
    },
    {
      "cell_type": "code",
      "source": [
        "remove_outliers.info()"
      ],
      "metadata": {
        "colab": {
          "base_uri": "https://localhost:8080/"
        },
        "id": "uMBz5l90CA4Z",
        "outputId": "22c63f74-6cd5-468a-f1ef-ca816d90d212"
      },
      "execution_count": 43,
      "outputs": [
        {
          "output_type": "stream",
          "name": "stdout",
          "text": [
            "<class 'pandas.core.frame.DataFrame'>\n",
            "Int64Index: 262 entries, 0 to 299\n",
            "Data columns (total 8 columns):\n",
            " #   Column                   Non-Null Count  Dtype  \n",
            "---  ------                   --------------  -----  \n",
            " 0   surgery?                 262 non-null    float64\n",
            " 1   Age                      262 non-null    int64  \n",
            " 2   Hospital_Number          262 non-null    int64  \n",
            " 3   rectal_temperature       262 non-null    float64\n",
            " 4   pulse                    253 non-null    float64\n",
            " 5   respiratory_rate         262 non-null    float64\n",
            " 6   temperature_extremities  262 non-null    float64\n",
            " 7   peripheral_pulse         262 non-null    float64\n",
            "dtypes: float64(6), int64(2)\n",
            "memory usage: 18.4 KB\n"
          ]
        }
      ]
    },
    {
      "cell_type": "code",
      "source": [
        "df2[~df2['pulse'].between(pulse_minimum, pulse_maximum, inclusive = True)]"
      ],
      "metadata": {
        "colab": {
          "base_uri": "https://localhost:8080/",
          "height": 544
        },
        "id": "EQXnO0I9CpLZ",
        "outputId": "5270abb4-29df-4799-9f95-e1813b2f2f21"
      },
      "execution_count": 44,
      "outputs": [
        {
          "output_type": "stream",
          "name": "stderr",
          "text": [
            "<ipython-input-44-c2e5acb86ad6>:1: FutureWarning: Boolean inputs to the `inclusive` argument are deprecated infavour of `both` or `neither`.\n",
            "  df2[~df2['pulse'].between(pulse_minimum, pulse_maximum, inclusive = True)]\n"
          ]
        },
        {
          "output_type": "execute_result",
          "data": {
            "text/plain": [
              "     surgery?  Age  Hospital_Number  rectal_temperature  pulse  \\\n",
              "3         1.0    9          5290409           39.100000  164.0   \n",
              "41        2.0    9          5288249           39.000000  150.0   \n",
              "55        1.0    9          5282839           38.600000  160.0   \n",
              "58        1.0    1           528298           38.168908    NaN   \n",
              "83        1.0    1          5279822           38.000000    NaN   \n",
              "115       2.0    1           533723           38.168908    NaN   \n",
              "117       2.0    1          5290482           39.500000    NaN   \n",
              "126       1.0    1           530384           38.700000    NaN   \n",
              "151       1.0    1           529399           39.300000    NaN   \n",
              "159       2.0    1           528134           38.168908    NaN   \n",
              "182       1.0    1          5279822           38.000000    NaN   \n",
              "204       1.0    1           529528           39.200000    NaN   \n",
              "255       1.0    9          5294539           38.800000  184.0   \n",
              "275       1.0    9          5297159           38.800000  150.0   \n",
              "\n",
              "     respiratory_rate  temperature_extremities  peripheral_pulse  \n",
              "3                84.0                      4.0               1.0  \n",
              "41               72.0                      3.0               1.0  \n",
              "55               20.0                      3.0               1.0  \n",
              "58               20.0                      4.0               3.0  \n",
              "83               24.0                      3.0               3.0  \n",
              "115              40.0                      3.0               1.0  \n",
              "117              24.0                      3.0               3.0  \n",
              "126              24.0                      3.0               1.0  \n",
              "151              24.0                      4.0               3.0  \n",
              "159              12.0                      1.0               1.0  \n",
              "182              24.0                      3.0               3.0  \n",
              "204              23.0                      3.0               1.0  \n",
              "255              84.0                      1.0               1.0  \n",
              "275              50.0                      1.0               3.0  "
            ],
            "text/html": [
              "\n",
              "  <div id=\"df-bc1febe5-a791-4a92-b6b9-aba8e17276ad\">\n",
              "    <div class=\"colab-df-container\">\n",
              "      <div>\n",
              "<style scoped>\n",
              "    .dataframe tbody tr th:only-of-type {\n",
              "        vertical-align: middle;\n",
              "    }\n",
              "\n",
              "    .dataframe tbody tr th {\n",
              "        vertical-align: top;\n",
              "    }\n",
              "\n",
              "    .dataframe thead th {\n",
              "        text-align: right;\n",
              "    }\n",
              "</style>\n",
              "<table border=\"1\" class=\"dataframe\">\n",
              "  <thead>\n",
              "    <tr style=\"text-align: right;\">\n",
              "      <th></th>\n",
              "      <th>surgery?</th>\n",
              "      <th>Age</th>\n",
              "      <th>Hospital_Number</th>\n",
              "      <th>rectal_temperature</th>\n",
              "      <th>pulse</th>\n",
              "      <th>respiratory_rate</th>\n",
              "      <th>temperature_extremities</th>\n",
              "      <th>peripheral_pulse</th>\n",
              "    </tr>\n",
              "  </thead>\n",
              "  <tbody>\n",
              "    <tr>\n",
              "      <th>3</th>\n",
              "      <td>1.0</td>\n",
              "      <td>9</td>\n",
              "      <td>5290409</td>\n",
              "      <td>39.100000</td>\n",
              "      <td>164.0</td>\n",
              "      <td>84.0</td>\n",
              "      <td>4.0</td>\n",
              "      <td>1.0</td>\n",
              "    </tr>\n",
              "    <tr>\n",
              "      <th>41</th>\n",
              "      <td>2.0</td>\n",
              "      <td>9</td>\n",
              "      <td>5288249</td>\n",
              "      <td>39.000000</td>\n",
              "      <td>150.0</td>\n",
              "      <td>72.0</td>\n",
              "      <td>3.0</td>\n",
              "      <td>1.0</td>\n",
              "    </tr>\n",
              "    <tr>\n",
              "      <th>55</th>\n",
              "      <td>1.0</td>\n",
              "      <td>9</td>\n",
              "      <td>5282839</td>\n",
              "      <td>38.600000</td>\n",
              "      <td>160.0</td>\n",
              "      <td>20.0</td>\n",
              "      <td>3.0</td>\n",
              "      <td>1.0</td>\n",
              "    </tr>\n",
              "    <tr>\n",
              "      <th>58</th>\n",
              "      <td>1.0</td>\n",
              "      <td>1</td>\n",
              "      <td>528298</td>\n",
              "      <td>38.168908</td>\n",
              "      <td>NaN</td>\n",
              "      <td>20.0</td>\n",
              "      <td>4.0</td>\n",
              "      <td>3.0</td>\n",
              "    </tr>\n",
              "    <tr>\n",
              "      <th>83</th>\n",
              "      <td>1.0</td>\n",
              "      <td>1</td>\n",
              "      <td>5279822</td>\n",
              "      <td>38.000000</td>\n",
              "      <td>NaN</td>\n",
              "      <td>24.0</td>\n",
              "      <td>3.0</td>\n",
              "      <td>3.0</td>\n",
              "    </tr>\n",
              "    <tr>\n",
              "      <th>115</th>\n",
              "      <td>2.0</td>\n",
              "      <td>1</td>\n",
              "      <td>533723</td>\n",
              "      <td>38.168908</td>\n",
              "      <td>NaN</td>\n",
              "      <td>40.0</td>\n",
              "      <td>3.0</td>\n",
              "      <td>1.0</td>\n",
              "    </tr>\n",
              "    <tr>\n",
              "      <th>117</th>\n",
              "      <td>2.0</td>\n",
              "      <td>1</td>\n",
              "      <td>5290482</td>\n",
              "      <td>39.500000</td>\n",
              "      <td>NaN</td>\n",
              "      <td>24.0</td>\n",
              "      <td>3.0</td>\n",
              "      <td>3.0</td>\n",
              "    </tr>\n",
              "    <tr>\n",
              "      <th>126</th>\n",
              "      <td>1.0</td>\n",
              "      <td>1</td>\n",
              "      <td>530384</td>\n",
              "      <td>38.700000</td>\n",
              "      <td>NaN</td>\n",
              "      <td>24.0</td>\n",
              "      <td>3.0</td>\n",
              "      <td>1.0</td>\n",
              "    </tr>\n",
              "    <tr>\n",
              "      <th>151</th>\n",
              "      <td>1.0</td>\n",
              "      <td>1</td>\n",
              "      <td>529399</td>\n",
              "      <td>39.300000</td>\n",
              "      <td>NaN</td>\n",
              "      <td>24.0</td>\n",
              "      <td>4.0</td>\n",
              "      <td>3.0</td>\n",
              "    </tr>\n",
              "    <tr>\n",
              "      <th>159</th>\n",
              "      <td>2.0</td>\n",
              "      <td>1</td>\n",
              "      <td>528134</td>\n",
              "      <td>38.168908</td>\n",
              "      <td>NaN</td>\n",
              "      <td>12.0</td>\n",
              "      <td>1.0</td>\n",
              "      <td>1.0</td>\n",
              "    </tr>\n",
              "    <tr>\n",
              "      <th>182</th>\n",
              "      <td>1.0</td>\n",
              "      <td>1</td>\n",
              "      <td>5279822</td>\n",
              "      <td>38.000000</td>\n",
              "      <td>NaN</td>\n",
              "      <td>24.0</td>\n",
              "      <td>3.0</td>\n",
              "      <td>3.0</td>\n",
              "    </tr>\n",
              "    <tr>\n",
              "      <th>204</th>\n",
              "      <td>1.0</td>\n",
              "      <td>1</td>\n",
              "      <td>529528</td>\n",
              "      <td>39.200000</td>\n",
              "      <td>NaN</td>\n",
              "      <td>23.0</td>\n",
              "      <td>3.0</td>\n",
              "      <td>1.0</td>\n",
              "    </tr>\n",
              "    <tr>\n",
              "      <th>255</th>\n",
              "      <td>1.0</td>\n",
              "      <td>9</td>\n",
              "      <td>5294539</td>\n",
              "      <td>38.800000</td>\n",
              "      <td>184.0</td>\n",
              "      <td>84.0</td>\n",
              "      <td>1.0</td>\n",
              "      <td>1.0</td>\n",
              "    </tr>\n",
              "    <tr>\n",
              "      <th>275</th>\n",
              "      <td>1.0</td>\n",
              "      <td>9</td>\n",
              "      <td>5297159</td>\n",
              "      <td>38.800000</td>\n",
              "      <td>150.0</td>\n",
              "      <td>50.0</td>\n",
              "      <td>1.0</td>\n",
              "      <td>3.0</td>\n",
              "    </tr>\n",
              "  </tbody>\n",
              "</table>\n",
              "</div>\n",
              "      <button class=\"colab-df-convert\" onclick=\"convertToInteractive('df-bc1febe5-a791-4a92-b6b9-aba8e17276ad')\"\n",
              "              title=\"Convert this dataframe to an interactive table.\"\n",
              "              style=\"display:none;\">\n",
              "        \n",
              "  <svg xmlns=\"http://www.w3.org/2000/svg\" height=\"24px\"viewBox=\"0 0 24 24\"\n",
              "       width=\"24px\">\n",
              "    <path d=\"M0 0h24v24H0V0z\" fill=\"none\"/>\n",
              "    <path d=\"M18.56 5.44l.94 2.06.94-2.06 2.06-.94-2.06-.94-.94-2.06-.94 2.06-2.06.94zm-11 1L8.5 8.5l.94-2.06 2.06-.94-2.06-.94L8.5 2.5l-.94 2.06-2.06.94zm10 10l.94 2.06.94-2.06 2.06-.94-2.06-.94-.94-2.06-.94 2.06-2.06.94z\"/><path d=\"M17.41 7.96l-1.37-1.37c-.4-.4-.92-.59-1.43-.59-.52 0-1.04.2-1.43.59L10.3 9.45l-7.72 7.72c-.78.78-.78 2.05 0 2.83L4 21.41c.39.39.9.59 1.41.59.51 0 1.02-.2 1.41-.59l7.78-7.78 2.81-2.81c.8-.78.8-2.07 0-2.86zM5.41 20L4 18.59l7.72-7.72 1.47 1.35L5.41 20z\"/>\n",
              "  </svg>\n",
              "      </button>\n",
              "      \n",
              "  <style>\n",
              "    .colab-df-container {\n",
              "      display:flex;\n",
              "      flex-wrap:wrap;\n",
              "      gap: 12px;\n",
              "    }\n",
              "\n",
              "    .colab-df-convert {\n",
              "      background-color: #E8F0FE;\n",
              "      border: none;\n",
              "      border-radius: 50%;\n",
              "      cursor: pointer;\n",
              "      display: none;\n",
              "      fill: #1967D2;\n",
              "      height: 32px;\n",
              "      padding: 0 0 0 0;\n",
              "      width: 32px;\n",
              "    }\n",
              "\n",
              "    .colab-df-convert:hover {\n",
              "      background-color: #E2EBFA;\n",
              "      box-shadow: 0px 1px 2px rgba(60, 64, 67, 0.3), 0px 1px 3px 1px rgba(60, 64, 67, 0.15);\n",
              "      fill: #174EA6;\n",
              "    }\n",
              "\n",
              "    [theme=dark] .colab-df-convert {\n",
              "      background-color: #3B4455;\n",
              "      fill: #D2E3FC;\n",
              "    }\n",
              "\n",
              "    [theme=dark] .colab-df-convert:hover {\n",
              "      background-color: #434B5C;\n",
              "      box-shadow: 0px 1px 3px 1px rgba(0, 0, 0, 0.15);\n",
              "      filter: drop-shadow(0px 1px 2px rgba(0, 0, 0, 0.3));\n",
              "      fill: #FFFFFF;\n",
              "    }\n",
              "  </style>\n",
              "\n",
              "      <script>\n",
              "        const buttonEl =\n",
              "          document.querySelector('#df-bc1febe5-a791-4a92-b6b9-aba8e17276ad button.colab-df-convert');\n",
              "        buttonEl.style.display =\n",
              "          google.colab.kernel.accessAllowed ? 'block' : 'none';\n",
              "\n",
              "        async function convertToInteractive(key) {\n",
              "          const element = document.querySelector('#df-bc1febe5-a791-4a92-b6b9-aba8e17276ad');\n",
              "          const dataTable =\n",
              "            await google.colab.kernel.invokeFunction('convertToInteractive',\n",
              "                                                     [key], {});\n",
              "          if (!dataTable) return;\n",
              "\n",
              "          const docLinkHtml = 'Like what you see? Visit the ' +\n",
              "            '<a target=\"_blank\" href=https://colab.research.google.com/notebooks/data_table.ipynb>data table notebook</a>'\n",
              "            + ' to learn more about interactive tables.';\n",
              "          element.innerHTML = '';\n",
              "          dataTable['output_type'] = 'display_data';\n",
              "          await google.colab.output.renderOutput(dataTable, element);\n",
              "          const docLink = document.createElement('div');\n",
              "          docLink.innerHTML = docLinkHtml;\n",
              "          element.appendChild(docLink);\n",
              "        }\n",
              "      </script>\n",
              "    </div>\n",
              "  </div>\n",
              "  "
            ]
          },
          "metadata": {},
          "execution_count": 44
        }
      ]
    },
    {
      "cell_type": "code",
      "source": [
        "# Основная причина появления выбросов значений параметра respiratory_rate - ошибка обработки данных. \n",
        "respiratory_rate_minimum = df2['respiratory_rate'].quantile(0.25) - 1.5*respiratory_rate_IQR\n",
        "print(respiratory_rate_minimum)\n",
        "respiratory_rate_maximum = df2['respiratory_rate'].quantile(0.75) + 1.5*respiratory_rate_IQR\n",
        "print(respiratory_rate_maximum)\n",
        "#remove_outliers = df2[df2['respiratory_rate'].between(respiratory_rate_minimum, respiratory_rate_maximum, inclusive = True)]\n",
        "#remove_outliers.head(10)"
      ],
      "metadata": {
        "colab": {
          "base_uri": "https://localhost:8080/"
        },
        "id": "cLJBgZJ9KsXJ",
        "outputId": "51fff212-81aa-4630-ffed-4aed5228b1fe"
      },
      "execution_count": 45,
      "outputs": [
        {
          "output_type": "stream",
          "name": "stdout",
          "text": [
            "-6.25\n",
            "62.25\n"
          ]
        }
      ]
    },
    {
      "cell_type": "code",
      "source": [
        "# заменяем значения выбросов на respiratory_rate_maximum и respiratory_rate_minimum, полученные с использованием IQR\n",
        "remove_outliers['respiratory_rate'] = np.where(remove_outliers['respiratory_rate']> respiratory_rate_maximum, respiratory_rate_maximum,\n",
        "                                         np.where(remove_outliers['respiratory_rate']< respiratory_rate_minimum, respiratory_rate_minimum, remove_outliers['respiratory_rate']))\n",
        "remove_outliers.info()"
      ],
      "metadata": {
        "colab": {
          "base_uri": "https://localhost:8080/"
        },
        "id": "GijDC8XMKhFd",
        "outputId": "e4581600-d717-4e0f-b4fb-aecc0823099c"
      },
      "execution_count": 46,
      "outputs": [
        {
          "output_type": "stream",
          "name": "stdout",
          "text": [
            "<class 'pandas.core.frame.DataFrame'>\n",
            "Int64Index: 262 entries, 0 to 299\n",
            "Data columns (total 8 columns):\n",
            " #   Column                   Non-Null Count  Dtype  \n",
            "---  ------                   --------------  -----  \n",
            " 0   surgery?                 262 non-null    float64\n",
            " 1   Age                      262 non-null    int64  \n",
            " 2   Hospital_Number          262 non-null    int64  \n",
            " 3   rectal_temperature       262 non-null    float64\n",
            " 4   pulse                    253 non-null    float64\n",
            " 5   respiratory_rate         262 non-null    float64\n",
            " 6   temperature_extremities  262 non-null    float64\n",
            " 7   peripheral_pulse         262 non-null    float64\n",
            "dtypes: float64(6), int64(2)\n",
            "memory usage: 18.4 KB\n"
          ]
        },
        {
          "output_type": "stream",
          "name": "stderr",
          "text": [
            "<ipython-input-46-787fcab8d02f>:2: SettingWithCopyWarning: \n",
            "A value is trying to be set on a copy of a slice from a DataFrame.\n",
            "Try using .loc[row_indexer,col_indexer] = value instead\n",
            "\n",
            "See the caveats in the documentation: https://pandas.pydata.org/pandas-docs/stable/user_guide/indexing.html#returning-a-view-versus-a-copy\n",
            "  remove_outliers['respiratory_rate'] = np.where(remove_outliers['respiratory_rate']> respiratory_rate_maximum, respiratory_rate_maximum,\n"
          ]
        }
      ]
    },
    {
      "cell_type": "code",
      "source": [
        "# Определим столбцы с числовыми типами данных\n",
        "cont_col = remove_outliers.drop(['surgery?', 'Age', 'Hospital_Number',  'temperature_extremities', 'peripheral_pulse'], axis = 1)\n",
        "cont_col.info()"
      ],
      "metadata": {
        "colab": {
          "base_uri": "https://localhost:8080/"
        },
        "id": "IiVCGxmSO8A5",
        "outputId": "5f42a9d8-1b97-4710-b831-d7239367b04b"
      },
      "execution_count": 47,
      "outputs": [
        {
          "output_type": "stream",
          "name": "stdout",
          "text": [
            "<class 'pandas.core.frame.DataFrame'>\n",
            "Int64Index: 262 entries, 0 to 299\n",
            "Data columns (total 3 columns):\n",
            " #   Column              Non-Null Count  Dtype  \n",
            "---  ------              --------------  -----  \n",
            " 0   rectal_temperature  262 non-null    float64\n",
            " 1   pulse               253 non-null    float64\n",
            " 2   respiratory_rate    262 non-null    float64\n",
            "dtypes: float64(3)\n",
            "memory usage: 8.2 KB\n"
          ]
        }
      ]
    },
    {
      "cell_type": "code",
      "source": [
        "#Построим графическую визуализацию распределений числовых данных (гистограммы и боксплоты) \n",
        "for col in cont_col:\n",
        "    fig, ax =plt.subplots(1,2, constrained_layout=True)\n",
        "    fig.set_size_inches(20, 3)\n",
        "    sns.distplot(cont_col[col], ax=ax[0]).set(title=\"Distplot\")\n",
        "    sns.boxplot(cont_col[col], ax=ax[1]).set(title=\"Boxplot\")\n",
        "    plt.suptitle(f'{col.title()} (After handling outliers)',weight='bold')\n",
        "    fig.show()"
      ],
      "metadata": {
        "colab": {
          "base_uri": "https://localhost:8080/",
          "height": 736
        },
        "id": "SESRi1fPPLTD",
        "outputId": "345c62ac-ff54-42d5-d60d-05000760f0d3"
      },
      "execution_count": 48,
      "outputs": [
        {
          "output_type": "stream",
          "name": "stderr",
          "text": [
            "/usr/local/lib/python3.8/dist-packages/seaborn/distributions.py:2619: FutureWarning: `distplot` is a deprecated function and will be removed in a future version. Please adapt your code to use either `displot` (a figure-level function with similar flexibility) or `histplot` (an axes-level function for histograms).\n",
            "  warnings.warn(msg, FutureWarning)\n",
            "/usr/local/lib/python3.8/dist-packages/seaborn/_decorators.py:36: FutureWarning: Pass the following variable as a keyword arg: x. From version 0.12, the only valid positional argument will be `data`, and passing other arguments without an explicit keyword will result in an error or misinterpretation.\n",
            "  warnings.warn(\n",
            "/usr/local/lib/python3.8/dist-packages/seaborn/distributions.py:2619: FutureWarning: `distplot` is a deprecated function and will be removed in a future version. Please adapt your code to use either `displot` (a figure-level function with similar flexibility) or `histplot` (an axes-level function for histograms).\n",
            "  warnings.warn(msg, FutureWarning)\n",
            "/usr/local/lib/python3.8/dist-packages/seaborn/_decorators.py:36: FutureWarning: Pass the following variable as a keyword arg: x. From version 0.12, the only valid positional argument will be `data`, and passing other arguments without an explicit keyword will result in an error or misinterpretation.\n",
            "  warnings.warn(\n",
            "/usr/local/lib/python3.8/dist-packages/seaborn/distributions.py:2619: FutureWarning: `distplot` is a deprecated function and will be removed in a future version. Please adapt your code to use either `displot` (a figure-level function with similar flexibility) or `histplot` (an axes-level function for histograms).\n",
            "  warnings.warn(msg, FutureWarning)\n",
            "/usr/local/lib/python3.8/dist-packages/seaborn/_decorators.py:36: FutureWarning: Pass the following variable as a keyword arg: x. From version 0.12, the only valid positional argument will be `data`, and passing other arguments without an explicit keyword will result in an error or misinterpretation.\n",
            "  warnings.warn(\n"
          ]
        },
        {
          "output_type": "display_data",
          "data": {
            "text/plain": [
              "<Figure size 1440x216 with 2 Axes>"
            ],
            "image/png": "[encoded data removed]"
          },
          "metadata": {
            "needs_background": "light"
          }
        },
        {
          "output_type": "display_data",
          "data": {
            "text/plain": [
              "<Figure size 1440x216 with 2 Axes>"
            ],
            "image/png": "[encoded data removed]"
          },
          "metadata": {
            "needs_background": "light"
          }
        },
        {
          "output_type": "display_data",
          "data": {
            "text/plain": [
              "<Figure size 1440x216 with 2 Axes>"
            ],
            "image/png": "[encoded data removed]"
          },
          "metadata": {
            "needs_background": "light"
          }
        }
      ]
    },
    {
      "cell_type": "markdown",
      "source": [
        "#Выводы\n",
        "В результате работы с пропусками и выбросами, была сформирована таблица, содержащая 8 столбцов и 262 строки. \n",
        "\n",
        "Приведенные гистрограммы и боксплоты показывают улучшение качества отобранных значений количественных параметров. "
      ],
      "metadata": {
        "id": "NNZO7CrEVs5U"
      }
    },
    {
      "cell_type": "markdown",
      "source": [],
      "metadata": {
        "id": "IRZQ7ZR8W7ZB"
      }
    },
    {
      "cell_type": "markdown",
      "metadata": {
        "id": "jzj3Vl9LVT52"
      },
      "source": [
        "## Дополнительная часть (необязательная)\n",
        "\n",
        "Выполнить задания 1-3 для всего набора данных."
      ]
    },
    {
      "cell_type": "markdown",
      "metadata": {
        "id": "lhUCjWo_VT52"
      },
      "source": [
        "#### ПРИМЕЧАНИЕ\n",
        "Домашнее задание сдается ссылкой на репозиторий [GitHub](https://github.com/).\n",
        "Не сможем проверить или помочь, если вы пришлете:\n",
        "- файлы;\n",
        "- архивы;\n",
        "- скриншоты кода.\n",
        "\n",
        "Все обсуждения и консультации по выполнению домашнего задания ведутся только на соответствующем канале в slack.\n",
        "\n",
        "##### Как правильно задавать вопросы аспирантам, преподавателям и коллегам\n",
        "Прежде чем задать вопрос, попробуйте найти ответ в интернете. Навык самостоятельного поиска информации — один из важнейших. Каждый практикующий специалист любого уровня делает это ежедневно.\n",
        "\n",
        "Сформулируйте вопрос по алгоритму:  \n",
        "1) Что я делаю?  \n",
        "2) Какого результата я ожидаю?  \n",
        "3) Как фактический результат отличается от ожидаемого?  \n",
        "4) Что я уже попробовал сделать, чтобы исправить проблему?  \n",
        "\n",
        "По возможности прикрепите к вопросу скриншоты либо ссылки на код. Не выкладывайте все решение, оставляйте только проблемный и воспроизводимый участок кода."
      ]
    }
  ],
  "metadata": {
    "kernelspec": {
      "display_name": "Python 3",
      "language": "python",
      "name": "python3"
    },
    "language_info": {
      "codemirror_mode": {
        "name": "ipython",
        "version": 3
      },
      "file_extension": ".py",
      "mimetype": "text/x-python",
      "name": "python",
      "nbconvert_exporter": "python",
      "pygments_lexer": "ipython3",
      "version": "3.7.7"
    },
    "colab": {
      "provenance": [],
      "include_colab_link": true
    }
  },
  "nbformat": 4,
  "nbformat_minor": 0
}